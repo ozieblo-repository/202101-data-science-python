{
  "nbformat": 4,
  "nbformat_minor": 5,
  "metadata": {
    "kernelspec": {
      "display_name": "Python 3",
      "language": "python",
      "name": "python3"
    },
    "language_info": {
      "codemirror_mode": {
        "name": "ipython",
        "version": 3
      },
      "file_extension": ".py",
      "mimetype": "text/x-python",
      "name": "python",
      "nbconvert_exporter": "python",
      "pygments_lexer": "ipython3",
      "version": "3.8.5"
    },
    "colab": {
      "name": "week6_lecture.ipynb",
      "provenance": []
    }
  },
  "cells": [
    {
      "cell_type": "markdown",
      "metadata": {
        "id": "industrial-facing"
      },
      "source": [
        "# Week 6  - An introduction to machine learning (Part II)\n",
        "### Motivation\n",
        "\n",
        "Continuation of last week's lecture on ML regression techniques to classification: first we'll look at the Titanic dataset, then the classic [MNIST](http://yann.lecun.com/exdb/mnist/) digit recognition problem, introducing cross validation and hyperparameter search along the way.\n",
        "\n",
        "In the recap lecture, I'll briefly show how these techniques can be applied to natural language, by analysing the 100K MovieLens [dataset](https://grouplens.org/datasets/movielens/).\n",
        "\n",
        "\n",
        "### Aims\n",
        "\n",
        "- Examine how use ML learning to predict the survival chances of Titanic passengers.\n",
        "- Show how machine learning techniques are not restricted to working with tables of numbers, by automatically classifying digits in the classic ML image recognition problem on the \"MNIST\" dataset.\n",
        "- Show how we can be more systematic about how we pick the 'best' model, but introducting metrics, cross-validation, hyperparameter search.\n",
        "- Introduce the homework with a hands-on with data from a [nature machine intelligence](https://www.nature.com/natmachintell/) paper, [\"An interpretable mortality prediction model for COVID-19 patients\"](https://www.nature.com/articles/s42256-020-0180-7)."
      ],
      "id": "industrial-facing"
    },
    {
      "cell_type": "markdown",
      "metadata": {
        "id": "oriental-disclaimer"
      },
      "source": [
        "## 0. Setup\n",
        "\n",
        "Refer to setup instructions from Lecture 5."
      ],
      "id": "oriental-disclaimer"
    },
    {
      "cell_type": "markdown",
      "metadata": {
        "id": "outdoor-generator"
      },
      "source": [
        "## 1. Predicting passenger survival on the Titanic\n",
        "\n",
        "We base the example on an example analysis from [GitHub](https://github.com/geodra/Titanic-Dataset)."
      ],
      "id": "outdoor-generator"
    },
    {
      "cell_type": "markdown",
      "metadata": {
        "id": "peripheral-outreach"
      },
      "source": [
        "### Titanic datasets\n",
        "\n",
        "https://web.stanford.edu/class/archive/cs/cs109/cs109.1166/stuff/titanic.csv\n",
        "\n",
        "https://www.openml.org/d/40945\n",
        "\n",
        "https://www.openml.org/data/get_csv/16826755/phpMYEkMl\n",
        "\n",
        "http://bit.ly/1juuXIr"
      ],
      "id": "peripheral-outreach"
    },
    {
      "cell_type": "markdown",
      "metadata": {
        "id": "laughing-barbados"
      },
      "source": [
        "Download and take a look at the data"
      ],
      "id": "laughing-barbados"
    },
    {
      "cell_type": "code",
      "metadata": {
        "id": "extended-township"
      },
      "source": [
        "from urllib import request\n",
        "import os \n",
        "\n",
        "titanic_path = 'titanic.csv'\n",
        "\n",
        "if not os.path.exists(titanic_path):\n",
        "    request.urlretrieve('https://www.openml.org/data/get_csv/16826755/phpMYEkMl.csv', 'titanic.csv')\n",
        "\n"
      ],
      "id": "extended-township",
      "execution_count": 1,
      "outputs": []
    },
    {
      "cell_type": "code",
      "metadata": {
        "id": "celtic-glossary"
      },
      "source": [
        "import pandas as pd\n",
        "titanic = pd.read_csv(titanic_path)"
      ],
      "id": "celtic-glossary",
      "execution_count": 2,
      "outputs": []
    },
    {
      "cell_type": "markdown",
      "metadata": {
        "id": "variable-remove"
      },
      "source": [
        "Let's first explore the dataset to see what we're working with."
      ],
      "id": "variable-remove"
    },
    {
      "cell_type": "code",
      "metadata": {
        "id": "manufactured-consensus",
        "colab": {
          "base_uri": "https://localhost:8080/",
          "height": 204
        },
        "outputId": "424833b8-a458-4f47-a1d4-94e4f0e37cd3"
      },
      "source": [
        "titanic.sample(5)"
      ],
      "id": "manufactured-consensus",
      "execution_count": 3,
      "outputs": [
        {
          "output_type": "execute_result",
          "data": {
            "text/html": [
              "<div>\n",
              "<style scoped>\n",
              "    .dataframe tbody tr th:only-of-type {\n",
              "        vertical-align: middle;\n",
              "    }\n",
              "\n",
              "    .dataframe tbody tr th {\n",
              "        vertical-align: top;\n",
              "    }\n",
              "\n",
              "    .dataframe thead th {\n",
              "        text-align: right;\n",
              "    }\n",
              "</style>\n",
              "<table border=\"1\" class=\"dataframe\">\n",
              "  <thead>\n",
              "    <tr style=\"text-align: right;\">\n",
              "      <th></th>\n",
              "      <th>pclass</th>\n",
              "      <th>survived</th>\n",
              "      <th>name</th>\n",
              "      <th>sex</th>\n",
              "      <th>age</th>\n",
              "      <th>sibsp</th>\n",
              "      <th>parch</th>\n",
              "      <th>ticket</th>\n",
              "      <th>fare</th>\n",
              "      <th>cabin</th>\n",
              "      <th>embarked</th>\n",
              "      <th>boat</th>\n",
              "      <th>body</th>\n",
              "      <th>home.dest</th>\n",
              "    </tr>\n",
              "  </thead>\n",
              "  <tbody>\n",
              "    <tr>\n",
              "      <th>1250</th>\n",
              "      <td>3</td>\n",
              "      <td>0</td>\n",
              "      <td>Todoroff, Mr. Lalio</td>\n",
              "      <td>male</td>\n",
              "      <td>?</td>\n",
              "      <td>0</td>\n",
              "      <td>0</td>\n",
              "      <td>349216</td>\n",
              "      <td>7.8958</td>\n",
              "      <td>?</td>\n",
              "      <td>S</td>\n",
              "      <td>?</td>\n",
              "      <td>?</td>\n",
              "      <td>?</td>\n",
              "    </tr>\n",
              "    <tr>\n",
              "      <th>166</th>\n",
              "      <td>1</td>\n",
              "      <td>0</td>\n",
              "      <td>Hoyt, Mr. William Fisher</td>\n",
              "      <td>male</td>\n",
              "      <td>?</td>\n",
              "      <td>0</td>\n",
              "      <td>0</td>\n",
              "      <td>PC 17600</td>\n",
              "      <td>30.6958</td>\n",
              "      <td>?</td>\n",
              "      <td>C</td>\n",
              "      <td>14</td>\n",
              "      <td>?</td>\n",
              "      <td>New York, NY</td>\n",
              "    </tr>\n",
              "    <tr>\n",
              "      <th>632</th>\n",
              "      <td>3</td>\n",
              "      <td>0</td>\n",
              "      <td>Andersson, Mrs. Anders Johan (Alfrida Konstant...</td>\n",
              "      <td>female</td>\n",
              "      <td>39</td>\n",
              "      <td>1</td>\n",
              "      <td>5</td>\n",
              "      <td>347082</td>\n",
              "      <td>31.275</td>\n",
              "      <td>?</td>\n",
              "      <td>S</td>\n",
              "      <td>?</td>\n",
              "      <td>?</td>\n",
              "      <td>Sweden Winnipeg, MN</td>\n",
              "    </tr>\n",
              "    <tr>\n",
              "      <th>172</th>\n",
              "      <td>1</td>\n",
              "      <td>0</td>\n",
              "      <td>Julian, Mr. Henry Forbes</td>\n",
              "      <td>male</td>\n",
              "      <td>50</td>\n",
              "      <td>0</td>\n",
              "      <td>0</td>\n",
              "      <td>113044</td>\n",
              "      <td>26</td>\n",
              "      <td>E60</td>\n",
              "      <td>S</td>\n",
              "      <td>?</td>\n",
              "      <td>?</td>\n",
              "      <td>London</td>\n",
              "    </tr>\n",
              "    <tr>\n",
              "      <th>84</th>\n",
              "      <td>1</td>\n",
              "      <td>0</td>\n",
              "      <td>Cumings, Mr. John Bradley</td>\n",
              "      <td>male</td>\n",
              "      <td>39</td>\n",
              "      <td>1</td>\n",
              "      <td>0</td>\n",
              "      <td>PC 17599</td>\n",
              "      <td>71.2833</td>\n",
              "      <td>C85</td>\n",
              "      <td>C</td>\n",
              "      <td>?</td>\n",
              "      <td>?</td>\n",
              "      <td>New York, NY</td>\n",
              "    </tr>\n",
              "  </tbody>\n",
              "</table>\n",
              "</div>"
            ],
            "text/plain": [
              "      pclass  survived  ... body            home.dest\n",
              "1250       3         0  ...    ?                    ?\n",
              "166        1         0  ...    ?         New York, NY\n",
              "632        3         0  ...    ?  Sweden Winnipeg, MN\n",
              "172        1         0  ...    ?               London\n",
              "84         1         0  ...    ?         New York, NY\n",
              "\n",
              "[5 rows x 14 columns]"
            ]
          },
          "metadata": {},
          "execution_count": 3
        }
      ]
    },
    {
      "cell_type": "code",
      "metadata": {
        "colab": {
          "base_uri": "https://localhost:8080/"
        },
        "id": "soviet-indianapolis",
        "outputId": "7474247e-0d2c-43db-f709-fe5b4179fb0b"
      },
      "source": [
        "titanic.shape"
      ],
      "id": "soviet-indianapolis",
      "execution_count": 4,
      "outputs": [
        {
          "output_type": "execute_result",
          "data": {
            "text/plain": [
              "(1309, 14)"
            ]
          },
          "metadata": {},
          "execution_count": 4
        }
      ]
    },
    {
      "cell_type": "markdown",
      "metadata": {
        "id": "surface-banana"
      },
      "source": [
        "So we can count the missing data, let's replace the `'?'` characters with `None`. We should also extract variables that 'leak' information about the `survived` response (`body`, `boat`); and information we're going to ignore (`home.dest`)."
      ],
      "id": "surface-banana"
    },
    {
      "cell_type": "code",
      "metadata": {
        "id": "accompanied-proposition"
      },
      "source": [
        "titanic = titanic.replace({'?': None}).drop(['body', 'boat', 'home.dest'], axis=1)"
      ],
      "id": "accompanied-proposition",
      "execution_count": 5,
      "outputs": []
    },
    {
      "cell_type": "code",
      "metadata": {
        "colab": {
          "base_uri": "https://localhost:8080/"
        },
        "id": "geographic-bridge",
        "outputId": "db540f9c-02fa-4df1-80a2-6417c4e5ea1c"
      },
      "source": [
        "titanic.info()"
      ],
      "id": "geographic-bridge",
      "execution_count": 6,
      "outputs": [
        {
          "output_type": "stream",
          "name": "stdout",
          "text": [
            "<class 'pandas.core.frame.DataFrame'>\n",
            "RangeIndex: 1309 entries, 0 to 1308\n",
            "Data columns (total 11 columns):\n",
            " #   Column    Non-Null Count  Dtype \n",
            "---  ------    --------------  ----- \n",
            " 0   pclass    1309 non-null   int64 \n",
            " 1   survived  1309 non-null   int64 \n",
            " 2   name      1309 non-null   object\n",
            " 3   sex       1309 non-null   object\n",
            " 4   age       1046 non-null   object\n",
            " 5   sibsp     1309 non-null   int64 \n",
            " 6   parch     1309 non-null   int64 \n",
            " 7   ticket    1309 non-null   object\n",
            " 8   fare      1308 non-null   object\n",
            " 9   cabin     295 non-null    object\n",
            " 10  embarked  1307 non-null   object\n",
            "dtypes: int64(4), object(7)\n",
            "memory usage: 112.6+ KB\n"
          ]
        }
      ]
    },
    {
      "cell_type": "code",
      "metadata": {
        "colab": {
          "base_uri": "https://localhost:8080/",
          "height": 390
        },
        "id": "presidential-reynolds",
        "outputId": "bdf95751-d99d-4c17-de7e-dc3c2c33683d"
      },
      "source": [
        "titanic.describe(include='all')"
      ],
      "id": "presidential-reynolds",
      "execution_count": 7,
      "outputs": [
        {
          "output_type": "execute_result",
          "data": {
            "text/html": [
              "<div>\n",
              "<style scoped>\n",
              "    .dataframe tbody tr th:only-of-type {\n",
              "        vertical-align: middle;\n",
              "    }\n",
              "\n",
              "    .dataframe tbody tr th {\n",
              "        vertical-align: top;\n",
              "    }\n",
              "\n",
              "    .dataframe thead th {\n",
              "        text-align: right;\n",
              "    }\n",
              "</style>\n",
              "<table border=\"1\" class=\"dataframe\">\n",
              "  <thead>\n",
              "    <tr style=\"text-align: right;\">\n",
              "      <th></th>\n",
              "      <th>pclass</th>\n",
              "      <th>survived</th>\n",
              "      <th>name</th>\n",
              "      <th>sex</th>\n",
              "      <th>age</th>\n",
              "      <th>sibsp</th>\n",
              "      <th>parch</th>\n",
              "      <th>ticket</th>\n",
              "      <th>fare</th>\n",
              "      <th>cabin</th>\n",
              "      <th>embarked</th>\n",
              "    </tr>\n",
              "  </thead>\n",
              "  <tbody>\n",
              "    <tr>\n",
              "      <th>count</th>\n",
              "      <td>1309.000000</td>\n",
              "      <td>1309.000000</td>\n",
              "      <td>1309</td>\n",
              "      <td>1309</td>\n",
              "      <td>1046</td>\n",
              "      <td>1309.000000</td>\n",
              "      <td>1309.000000</td>\n",
              "      <td>1309</td>\n",
              "      <td>1308</td>\n",
              "      <td>295</td>\n",
              "      <td>1307</td>\n",
              "    </tr>\n",
              "    <tr>\n",
              "      <th>unique</th>\n",
              "      <td>NaN</td>\n",
              "      <td>NaN</td>\n",
              "      <td>1307</td>\n",
              "      <td>2</td>\n",
              "      <td>98</td>\n",
              "      <td>NaN</td>\n",
              "      <td>NaN</td>\n",
              "      <td>929</td>\n",
              "      <td>281</td>\n",
              "      <td>186</td>\n",
              "      <td>3</td>\n",
              "    </tr>\n",
              "    <tr>\n",
              "      <th>top</th>\n",
              "      <td>NaN</td>\n",
              "      <td>NaN</td>\n",
              "      <td>Kelly, Mr. James</td>\n",
              "      <td>male</td>\n",
              "      <td>24</td>\n",
              "      <td>NaN</td>\n",
              "      <td>NaN</td>\n",
              "      <td>CA. 2343</td>\n",
              "      <td>8.05</td>\n",
              "      <td>C23 C25 C27</td>\n",
              "      <td>S</td>\n",
              "    </tr>\n",
              "    <tr>\n",
              "      <th>freq</th>\n",
              "      <td>NaN</td>\n",
              "      <td>NaN</td>\n",
              "      <td>2</td>\n",
              "      <td>843</td>\n",
              "      <td>47</td>\n",
              "      <td>NaN</td>\n",
              "      <td>NaN</td>\n",
              "      <td>11</td>\n",
              "      <td>60</td>\n",
              "      <td>6</td>\n",
              "      <td>914</td>\n",
              "    </tr>\n",
              "    <tr>\n",
              "      <th>mean</th>\n",
              "      <td>2.294882</td>\n",
              "      <td>0.381971</td>\n",
              "      <td>NaN</td>\n",
              "      <td>NaN</td>\n",
              "      <td>NaN</td>\n",
              "      <td>0.498854</td>\n",
              "      <td>0.385027</td>\n",
              "      <td>NaN</td>\n",
              "      <td>NaN</td>\n",
              "      <td>NaN</td>\n",
              "      <td>NaN</td>\n",
              "    </tr>\n",
              "    <tr>\n",
              "      <th>std</th>\n",
              "      <td>0.837836</td>\n",
              "      <td>0.486055</td>\n",
              "      <td>NaN</td>\n",
              "      <td>NaN</td>\n",
              "      <td>NaN</td>\n",
              "      <td>1.041658</td>\n",
              "      <td>0.865560</td>\n",
              "      <td>NaN</td>\n",
              "      <td>NaN</td>\n",
              "      <td>NaN</td>\n",
              "      <td>NaN</td>\n",
              "    </tr>\n",
              "    <tr>\n",
              "      <th>min</th>\n",
              "      <td>1.000000</td>\n",
              "      <td>0.000000</td>\n",
              "      <td>NaN</td>\n",
              "      <td>NaN</td>\n",
              "      <td>NaN</td>\n",
              "      <td>0.000000</td>\n",
              "      <td>0.000000</td>\n",
              "      <td>NaN</td>\n",
              "      <td>NaN</td>\n",
              "      <td>NaN</td>\n",
              "      <td>NaN</td>\n",
              "    </tr>\n",
              "    <tr>\n",
              "      <th>25%</th>\n",
              "      <td>2.000000</td>\n",
              "      <td>0.000000</td>\n",
              "      <td>NaN</td>\n",
              "      <td>NaN</td>\n",
              "      <td>NaN</td>\n",
              "      <td>0.000000</td>\n",
              "      <td>0.000000</td>\n",
              "      <td>NaN</td>\n",
              "      <td>NaN</td>\n",
              "      <td>NaN</td>\n",
              "      <td>NaN</td>\n",
              "    </tr>\n",
              "    <tr>\n",
              "      <th>50%</th>\n",
              "      <td>3.000000</td>\n",
              "      <td>0.000000</td>\n",
              "      <td>NaN</td>\n",
              "      <td>NaN</td>\n",
              "      <td>NaN</td>\n",
              "      <td>0.000000</td>\n",
              "      <td>0.000000</td>\n",
              "      <td>NaN</td>\n",
              "      <td>NaN</td>\n",
              "      <td>NaN</td>\n",
              "      <td>NaN</td>\n",
              "    </tr>\n",
              "    <tr>\n",
              "      <th>75%</th>\n",
              "      <td>3.000000</td>\n",
              "      <td>1.000000</td>\n",
              "      <td>NaN</td>\n",
              "      <td>NaN</td>\n",
              "      <td>NaN</td>\n",
              "      <td>1.000000</td>\n",
              "      <td>0.000000</td>\n",
              "      <td>NaN</td>\n",
              "      <td>NaN</td>\n",
              "      <td>NaN</td>\n",
              "      <td>NaN</td>\n",
              "    </tr>\n",
              "    <tr>\n",
              "      <th>max</th>\n",
              "      <td>3.000000</td>\n",
              "      <td>1.000000</td>\n",
              "      <td>NaN</td>\n",
              "      <td>NaN</td>\n",
              "      <td>NaN</td>\n",
              "      <td>8.000000</td>\n",
              "      <td>9.000000</td>\n",
              "      <td>NaN</td>\n",
              "      <td>NaN</td>\n",
              "      <td>NaN</td>\n",
              "      <td>NaN</td>\n",
              "    </tr>\n",
              "  </tbody>\n",
              "</table>\n",
              "</div>"
            ],
            "text/plain": [
              "             pclass     survived              name  ...  fare        cabin  embarked\n",
              "count   1309.000000  1309.000000              1309  ...  1308          295      1307\n",
              "unique          NaN          NaN              1307  ...   281          186         3\n",
              "top             NaN          NaN  Kelly, Mr. James  ...  8.05  C23 C25 C27         S\n",
              "freq            NaN          NaN                 2  ...    60            6       914\n",
              "mean       2.294882     0.381971               NaN  ...   NaN          NaN       NaN\n",
              "std        0.837836     0.486055               NaN  ...   NaN          NaN       NaN\n",
              "min        1.000000     0.000000               NaN  ...   NaN          NaN       NaN\n",
              "25%        2.000000     0.000000               NaN  ...   NaN          NaN       NaN\n",
              "50%        3.000000     0.000000               NaN  ...   NaN          NaN       NaN\n",
              "75%        3.000000     1.000000               NaN  ...   NaN          NaN       NaN\n",
              "max        3.000000     1.000000               NaN  ...   NaN          NaN       NaN\n",
              "\n",
              "[11 rows x 11 columns]"
            ]
          },
          "metadata": {},
          "execution_count": 7
        }
      ]
    },
    {
      "cell_type": "code",
      "metadata": {
        "id": "vertical-cabinet"
      },
      "source": [
        "titanic['age'] = titanic.age.astype(float)"
      ],
      "id": "vertical-cabinet",
      "execution_count": 8,
      "outputs": []
    },
    {
      "cell_type": "code",
      "metadata": {
        "colab": {
          "base_uri": "https://localhost:8080/"
        },
        "id": "blond-blond",
        "outputId": "9cb4b2a2-4423-4b5d-e0bb-439d968cbd0a"
      },
      "source": [
        "titanic.survived.value_counts()"
      ],
      "id": "blond-blond",
      "execution_count": 9,
      "outputs": [
        {
          "output_type": "execute_result",
          "data": {
            "text/plain": [
              "0    809\n",
              "1    500\n",
              "Name: survived, dtype: int64"
            ]
          },
          "metadata": {},
          "execution_count": 9
        }
      ]
    },
    {
      "cell_type": "markdown",
      "metadata": {
        "id": "speaking-equity"
      },
      "source": [
        "Think - what variables might be relevant here, and how might we go about looking at the data to identify relevant features."
      ],
      "id": "speaking-equity"
    },
    {
      "cell_type": "markdown",
      "metadata": {
        "id": "latin-wealth"
      },
      "source": [
        "Always a good idea to eyeball the data."
      ],
      "id": "latin-wealth"
    },
    {
      "cell_type": "code",
      "metadata": {
        "id": "ruled-sydney"
      },
      "source": [
        "titanic['person'] = titanic.apply(lambda x: 'child' if x.age < 18 else x.sex, axis=1)"
      ],
      "id": "ruled-sydney",
      "execution_count": 10,
      "outputs": []
    },
    {
      "cell_type": "code",
      "metadata": {
        "id": "experimental-mustang"
      },
      "source": [
        "plot_data = pd.crosstab(index=titanic['person'], columns=titanic['pclass'], values=titanic.index, aggfunc=pd.Series.count).stack().rename(\"counts\").reset_index()"
      ],
      "id": "experimental-mustang",
      "execution_count": 11,
      "outputs": []
    },
    {
      "cell_type": "code",
      "metadata": {
        "colab": {
          "base_uri": "https://localhost:8080/",
          "height": 498
        },
        "id": "verbal-blank",
        "outputId": "5f60c770-a508-4284-a6c6-a9f4a23027a4"
      },
      "source": [
        "import plotnine as p9\n",
        "dodge_text = p9.position_dodge(width=0.9) \n",
        "\n",
        "p9.ggplot(plot_data, p9.aes(x='pclass', \n",
        "                            y='counts', \n",
        "                            fill='person')) + p9.geom_col(stat='identity', \n",
        "                                                          position='dodge', \n",
        "                                                          show_legend=False) + p9.geom_text(p9.aes(y=-.5, \n",
        "                                                                                                   label='person'),\n",
        "                                                                                            position=dodge_text,\n",
        "                                                                                            color='gray', \n",
        "                                                                                            size=8, \n",
        "                                                                                            angle=45, \n",
        "                                                                                            va='top') + p9.lims(y=(-30, 450))  "
      ],
      "id": "verbal-blank",
      "execution_count": 12,
      "outputs": [
        {
          "output_type": "stream",
          "name": "stderr",
          "text": [
            "/usr/local/lib/python3.7/dist-packages/plotnine/utils.py:1246: FutureWarning: is_categorical is deprecated and will be removed in a future version.  Use is_categorical_dtype instead\n",
            "  if pdtypes.is_categorical(arr):\n"
          ]
        },
        {
          "output_type": "display_data",
          "data": {
            "image/png": "[encoded data removed]",
            "text/plain": [
              "<Figure size 640x480 with 1 Axes>"
            ]
          },
          "metadata": {}
        },
        {
          "output_type": "execute_result",
          "data": {
            "text/plain": [
              "<ggplot: (8778654041825)>"
            ]
          },
          "metadata": {},
          "execution_count": 12
        }
      ]
    },
    {
      "cell_type": "code",
      "metadata": {
        "colab": {
          "base_uri": "https://localhost:8080/",
          "height": 282
        },
        "id": "shaped-position",
        "outputId": "6f2aa482-c775-4334-f6ec-f8a066d1b8eb"
      },
      "source": [
        "titanic.age.hist()"
      ],
      "id": "shaped-position",
      "execution_count": 13,
      "outputs": [
        {
          "output_type": "execute_result",
          "data": {
            "text/plain": [
              "<matplotlib.axes._subplots.AxesSubplot at 0x7fbeec7566d0>"
            ]
          },
          "metadata": {},
          "execution_count": 13
        },
        {
          "output_type": "display_data",
          "data": {
            "image/png": "[encoded data removed]",
            "text/plain": [
              "<Figure size 432x288 with 1 Axes>"
            ]
          },
          "metadata": {
            "needs_background": "light"
          }
        }
      ]
    },
    {
      "cell_type": "code",
      "metadata": {
        "colab": {
          "base_uri": "https://localhost:8080/",
          "height": 542
        },
        "id": "h0NMQPEJ-6OS",
        "outputId": "ecdad7b3-953d-4e5a-9b9d-6828bd16120a"
      },
      "source": [
        "import plotly.express as px\n",
        "fig = px.histogram(titanic, x=\"age\", nbins=10)\n",
        "fig.show()"
      ],
      "id": "h0NMQPEJ-6OS",
      "execution_count": 14,
      "outputs": [
        {
          "output_type": "display_data",
          "data": {
            "text/html": [
              "<html>\n",
              "<head><meta charset=\"utf-8\" /></head>\n",
              "<body>\n",
              "    <div>\n",
              "            <script src=\"https://cdnjs.cloudflare.com/ajax/libs/mathjax/2.7.5/MathJax.js?config=TeX-AMS-MML_SVG\"></script><script type=\"text/javascript\">if (window.MathJax) {MathJax.Hub.Config({SVG: {font: \"STIX-Web\"}});}</script>\n",
              "                <script type=\"text/javascript\">window.PlotlyConfig = {MathJaxConfig: 'local'};</script>\n",
              "        <script src=\"https://cdn.plot.ly/plotly-latest.min.js\"></script>    \n",
              "            <div id=\"f20efdcd-ce0e-45c7-a1c9-cc114de3df70\" class=\"plotly-graph-div\" style=\"height:525px; width:100%;\"></div>\n",
              "            <script type=\"text/javascript\">\n",
              "                \n",
              "                    window.PLOTLYENV=window.PLOTLYENV || {};\n",
              "                    \n",
              "                if (document.getElementById(\"f20efdcd-ce0e-45c7-a1c9-cc114de3df70\")) {\n",
              "                    Plotly.newPlot(\n",
              "                        'f20efdcd-ce0e-45c7-a1c9-cc114de3df70',\n",
              "                        [{\"alignmentgroup\": \"True\", \"bingroup\": \"x\", \"hoverlabel\": {\"namelength\": 0}, \"hovertemplate\": \"age=%{x}<br>count=%{y}\", \"legendgroup\": \"\", \"marker\": {\"color\": \"#636efa\"}, \"name\": \"\", \"nbinsx\": 10, \"offsetgroup\": \"\", \"orientation\": \"v\", \"showlegend\": false, \"type\": \"histogram\", \"x\": [29.0, 0.9167, 2.0, 30.0, 25.0, 48.0, 63.0, 39.0, 53.0, 71.0, 47.0, 18.0, 24.0, 26.0, 80.0, null, 24.0, 50.0, 32.0, 36.0, 37.0, 47.0, 26.0, 42.0, 29.0, 25.0, 25.0, 19.0, 35.0, 28.0, 45.0, 40.0, 30.0, 58.0, 42.0, 45.0, 22.0, null, 41.0, 48.0, null, 44.0, 59.0, 60.0, 41.0, 45.0, null, 42.0, 53.0, 36.0, 58.0, 33.0, 28.0, 17.0, 11.0, 14.0, 36.0, 36.0, 49.0, null, 36.0, 76.0, 46.0, 47.0, 27.0, 33.0, 36.0, 30.0, 45.0, null, null, 27.0, 26.0, 22.0, null, 47.0, 39.0, 37.0, 64.0, 55.0, null, 70.0, 36.0, 64.0, 39.0, 38.0, 51.0, 27.0, 33.0, 31.0, 27.0, 31.0, 17.0, 53.0, 4.0, 54.0, 50.0, 27.0, 48.0, 48.0, 49.0, 39.0, 23.0, 38.0, 54.0, 36.0, null, null, null, 36.0, 30.0, 24.0, 28.0, 23.0, 19.0, 64.0, 60.0, 30.0, null, 50.0, 43.0, null, 22.0, 60.0, 48.0, null, 37.0, 35.0, 47.0, 35.0, 22.0, 45.0, 24.0, 49.0, null, 71.0, 53.0, 19.0, 38.0, 58.0, 23.0, 45.0, 46.0, 25.0, 25.0, 48.0, 49.0, null, 45.0, 35.0, 40.0, 27.0, null, 24.0, 55.0, 52.0, 42.0, null, 55.0, 16.0, 44.0, 51.0, 42.0, 35.0, 35.0, 38.0, null, 35.0, 38.0, 50.0, 49.0, 46.0, 50.0, 32.5, 58.0, 41.0, null, 42.0, 45.0, null, 39.0, 49.0, 30.0, 35.0, null, 42.0, 55.0, 16.0, 51.0, 29.0, 21.0, 30.0, 58.0, 15.0, 30.0, 16.0, null, 19.0, 18.0, 24.0, 46.0, 54.0, 36.0, 28.0, null, 65.0, 44.0, 33.0, 37.0, 30.0, 55.0, 47.0, 37.0, 31.0, 23.0, 58.0, 19.0, 64.0, 39.0, null, 22.0, 65.0, 28.5, null, 45.5, 23.0, 29.0, 22.0, 18.0, 17.0, 30.0, 52.0, 47.0, 56.0, 38.0, null, 22.0, null, 43.0, 31.0, 45.0, null, 33.0, 46.0, 36.0, 33.0, 55.0, 54.0, 33.0, 13.0, 18.0, 21.0, 61.0, 48.0, null, 24.0, null, 35.0, 30.0, 34.0, 40.0, 35.0, 50.0, 39.0, 56.0, 28.0, 56.0, 56.0, 24.0, null, 18.0, 24.0, 23.0, 6.0, 45.0, 40.0, 57.0, null, 32.0, 62.0, 54.0, 43.0, 52.0, null, 62.0, 67.0, 63.0, 61.0, 48.0, 18.0, 52.0, 39.0, 48.0, null, 49.0, 17.0, 39.0, null, 31.0, 40.0, 61.0, 47.0, 35.0, 64.0, 60.0, 60.0, 54.0, 21.0, 55.0, 31.0, 57.0, 45.0, 50.0, 27.0, 50.0, 21.0, 51.0, 21.0, null, 31.0, null, 62.0, 36.0, 30.0, 28.0, 30.0, 18.0, 25.0, 34.0, 36.0, 57.0, 18.0, 23.0, 36.0, 28.0, 51.0, 32.0, 19.0, 28.0, 1.0, 4.0, 12.0, 36.0, 34.0, 19.0, 23.0, 26.0, 42.0, 27.0, 24.0, 15.0, 60.0, 40.0, 20.0, 25.0, 36.0, 25.0, 42.0, 42.0, 0.8333, 26.0, 22.0, 35.0, null, 19.0, 44.0, 54.0, 52.0, 37.0, 29.0, 25.0, 45.0, 29.0, 28.0, 29.0, 28.0, 24.0, 8.0, 31.0, 31.0, 22.0, 30.0, null, 21.0, null, 8.0, 18.0, 48.0, 28.0, 32.0, 17.0, 29.0, 24.0, 25.0, 18.0, 18.0, 34.0, 54.0, 8.0, 42.0, 34.0, 27.0, 30.0, 23.0, 21.0, 18.0, 40.0, 29.0, 18.0, 36.0, null, 38.0, 35.0, 38.0, 34.0, 34.0, 16.0, 26.0, 47.0, 21.0, 21.0, 24.0, 24.0, 34.0, 30.0, 52.0, 30.0, 0.6667, 24.0, 44.0, 6.0, 28.0, 62.0, 30.0, 7.0, 43.0, 45.0, 24.0, 24.0, 49.0, 48.0, 55.0, 24.0, 32.0, 21.0, 18.0, 20.0, 23.0, 36.0, 54.0, 50.0, 44.0, 29.0, 21.0, 42.0, 63.0, 60.0, 33.0, 17.0, 42.0, 24.0, 47.0, 24.0, 22.0, 32.0, 23.0, 34.0, 24.0, 22.0, null, 35.0, 45.0, 57.0, null, 31.0, 26.0, 30.0, null, 1.0, 3.0, 25.0, 22.0, 17.0, null, 34.0, 36.0, 24.0, 61.0, 50.0, 42.0, 57.0, null, 1.0, 31.0, 24.0, null, 30.0, 40.0, 32.0, 30.0, 46.0, 13.0, 41.0, 19.0, 39.0, 48.0, 70.0, 27.0, 54.0, 39.0, 16.0, 62.0, 32.5, 14.0, 2.0, 3.0, 36.5, 26.0, 19.0, 28.0, 20.0, 29.0, 39.0, 22.0, null, 23.0, 29.0, 28.0, null, 50.0, 19.0, null, 41.0, 21.0, 19.0, 43.0, 32.0, 34.0, 30.0, 27.0, 2.0, 8.0, 33.0, 36.0, 34.0, 30.0, 28.0, 23.0, 0.8333, 3.0, 24.0, 50.0, 19.0, 21.0, 26.0, 25.0, 27.0, 25.0, 18.0, 20.0, 30.0, 59.0, 30.0, 35.0, 40.0, 25.0, 41.0, 25.0, 18.5, 14.0, 50.0, 23.0, 28.0, 27.0, 29.0, 27.0, 40.0, 31.0, 30.0, 23.0, 31.0, null, 12.0, 40.0, 32.5, 27.0, 29.0, 2.0, 4.0, 29.0, 0.9167, 5.0, 36.0, 33.0, 66.0, null, 31.0, null, 26.0, 24.0, 42.0, 13.0, 16.0, 35.0, 16.0, 25.0, 20.0, 18.0, 30.0, 26.0, 40.0, 0.8333, 18.0, 26.0, 26.0, 20.0, 24.0, 25.0, 35.0, 18.0, 32.0, 19.0, 4.0, 6.0, 2.0, 17.0, 38.0, 9.0, 11.0, 39.0, 27.0, 26.0, 39.0, 20.0, 26.0, 25.0, 18.0, 24.0, 35.0, 5.0, 9.0, 3.0, 13.0, 5.0, 40.0, 23.0, 38.0, 45.0, 21.0, 23.0, 17.0, 30.0, 23.0, 13.0, 20.0, 32.0, 33.0, 0.75, 0.75, 5.0, 24.0, 18.0, 40.0, 26.0, 20.0, 18.0, 45.0, 27.0, 22.0, 19.0, 26.0, 22.0, null, 20.0, 32.0, 21.0, 18.0, 26.0, 6.0, 9.0, null, null, null, 40.0, 32.0, 21.0, 22.0, 20.0, 29.0, 22.0, 22.0, 35.0, 18.5, 21.0, 19.0, 18.0, 21.0, 30.0, 18.0, 38.0, 17.0, 17.0, 21.0, 21.0, 21.0, null, null, 28.0, 24.0, 16.0, 37.0, 28.0, 24.0, 21.0, 32.0, 29.0, 26.0, 18.0, 20.0, 18.0, 24.0, 36.0, 24.0, 31.0, 31.0, 22.0, 30.0, 70.5, 43.0, 35.0, 27.0, 19.0, 30.0, 9.0, 3.0, 36.0, 59.0, 19.0, 17.0, 44.0, 17.0, 22.5, 45.0, 22.0, 19.0, 30.0, 29.0, 0.3333, 34.0, 28.0, 27.0, 25.0, 24.0, 22.0, 21.0, 17.0, null, null, 36.5, 36.0, 30.0, 16.0, 1.0, 0.1667, 26.0, 33.0, 25.0, null, null, 22.0, 36.0, 19.0, 17.0, 42.0, 43.0, null, 32.0, 19.0, 30.0, 24.0, 23.0, 33.0, 65.0, 24.0, 23.0, 22.0, 18.0, 16.0, 45.0, null, 39.0, 17.0, 15.0, 47.0, 5.0, null, 40.5, 40.5, null, 18.0, null, null, null, 26.0, null, null, 21.0, 9.0, null, 18.0, 16.0, 48.0, null, null, 25.0, null, null, 22.0, 16.0, null, 9.0, 33.0, 41.0, 31.0, 38.0, 9.0, 1.0, 11.0, 10.0, 16.0, 14.0, 40.0, 43.0, 51.0, 32.0, null, 20.0, 37.0, 28.0, 19.0, 24.0, 17.0, null, null, 28.0, 24.0, 20.0, 23.5, 41.0, 26.0, 21.0, 45.0, null, 25.0, null, 11.0, null, 27.0, null, 18.0, 26.0, 23.0, 22.0, 28.0, 28.0, null, 2.0, 22.0, 43.0, 28.0, 27.0, null, null, 42.0, null, 30.0, null, 27.0, 25.0, null, 29.0, 21.0, null, 20.0, 48.0, 17.0, null, null, 34.0, 26.0, 22.0, 33.0, 31.0, 29.0, 4.0, 1.0, 49.0, 33.0, 19.0, 27.0, null, null, null, null, 23.0, 32.0, 27.0, 20.0, 21.0, 32.0, 17.0, 21.0, 30.0, 21.0, 33.0, 22.0, 4.0, 39.0, null, 18.5, null, null, null, null, 34.5, 44.0, null, null, null, null, null, null, 22.0, 26.0, 4.0, 29.0, 26.0, 1.0, 18.0, 36.0, null, 25.0, null, 37.0, null, null, null, 22.0, null, 26.0, 29.0, 29.0, 22.0, 22.0, null, null, null, null, null, 32.0, 34.5, null, null, 36.0, 39.0, 24.0, 25.0, 45.0, 36.0, 30.0, 20.0, null, 28.0, null, 30.0, 26.0, null, 20.5, 27.0, 51.0, 23.0, 32.0, null, null, null, 24.0, 22.0, null, null, null, 29.0, null, 30.5, null, null, 35.0, 33.0, null, null, null, null, null, null, null, null, null, null, 15.0, 35.0, null, 24.0, 19.0, null, null, null, 55.5, null, 21.0, null, 24.0, 21.0, 28.0, null, null, 25.0, 6.0, 27.0, null, null, null, null, 34.0, null, null, null, null, null, null, null, null, 24.0, null, null, null, null, 18.0, 22.0, 15.0, 1.0, 20.0, 19.0, 33.0, null, null, null, null, 12.0, 14.0, 29.0, 28.0, 18.0, 26.0, 21.0, 41.0, 39.0, 21.0, 28.5, 22.0, 61.0, null, null, null, null, null, null, 23.0, null, null, null, 22.0, null, null, 9.0, 28.0, 42.0, null, 31.0, 28.0, 32.0, 20.0, 23.0, 20.0, 20.0, 16.0, 31.0, null, 2.0, 6.0, 3.0, 8.0, 29.0, 1.0, 7.0, 2.0, 16.0, 14.0, 41.0, 21.0, 19.0, null, 32.0, 0.75, 3.0, 26.0, null, null, null, 21.0, 25.0, 22.0, 25.0, null, null, null, null, 24.0, 28.0, 19.0, null, 25.0, 18.0, 32.0, null, 17.0, 24.0, null, null, null, null, 38.0, 21.0, 10.0, 4.0, 7.0, 2.0, 8.0, 39.0, 22.0, 35.0, null, null, null, 50.0, 47.0, null, null, 2.0, 18.0, 41.0, null, 50.0, 16.0, null, null, null, 25.0, null, null, null, 38.5, null, 14.5, null, null, null, null, null, null, null, null, null, 24.0, 21.0, 39.0, null, null, null, 1.0, 24.0, 4.0, 25.0, 20.0, 24.5, null, null, null, 29.0, null, null, null, null, 22.0, null, 40.0, 21.0, 18.0, 4.0, 10.0, 9.0, 2.0, 40.0, 45.0, null, null, null, null, null, 19.0, 30.0, null, 32.0, null, 33.0, 23.0, 21.0, 60.5, 19.0, 22.0, 31.0, 27.0, 2.0, 29.0, 16.0, 44.0, 25.0, 74.0, 14.0, 24.0, 25.0, 34.0, 0.4167, null, null, null, 16.0, null, null, null, 32.0, null, null, 30.5, 44.0, null, 25.0, null, 7.0, 9.0, 29.0, 36.0, 18.0, 63.0, null, 11.5, 40.5, 10.0, 36.0, 30.0, null, 33.0, 28.0, 28.0, 47.0, 18.0, 31.0, 16.0, 31.0, 22.0, 20.0, 14.0, 22.0, 22.0, null, null, null, 32.5, 38.0, 51.0, 18.0, 21.0, 47.0, null, null, null, 28.5, 21.0, 27.0, null, 36.0, 27.0, 15.0, 45.5, null, null, 14.5, null, 26.5, 27.0, 29.0], \"xaxis\": \"x\", \"yaxis\": \"y\"}],\n",
              "                        {\"barmode\": \"relative\", \"legend\": {\"tracegroupgap\": 0}, \"margin\": {\"t\": 60}, \"template\": {\"data\": {\"bar\": [{\"error_x\": {\"color\": \"#2a3f5f\"}, \"error_y\": {\"color\": \"#2a3f5f\"}, \"marker\": {\"line\": {\"color\": \"#E5ECF6\", \"width\": 0.5}}, \"type\": \"bar\"}], \"barpolar\": [{\"marker\": {\"line\": {\"color\": \"#E5ECF6\", \"width\": 0.5}}, \"type\": \"barpolar\"}], \"carpet\": [{\"aaxis\": {\"endlinecolor\": \"#2a3f5f\", \"gridcolor\": \"white\", \"linecolor\": \"white\", \"minorgridcolor\": \"white\", \"startlinecolor\": \"#2a3f5f\"}, \"baxis\": {\"endlinecolor\": \"#2a3f5f\", \"gridcolor\": \"white\", \"linecolor\": \"white\", \"minorgridcolor\": \"white\", \"startlinecolor\": \"#2a3f5f\"}, \"type\": \"carpet\"}], \"choropleth\": [{\"colorbar\": {\"outlinewidth\": 0, \"ticks\": \"\"}, \"type\": \"choropleth\"}], \"contour\": [{\"colorbar\": {\"outlinewidth\": 0, \"ticks\": \"\"}, \"colorscale\": [[0.0, \"#0d0887\"], [0.1111111111111111, \"#46039f\"], [0.2222222222222222, \"#7201a8\"], [0.3333333333333333, \"#9c179e\"], [0.4444444444444444, \"#bd3786\"], [0.5555555555555556, \"#d8576b\"], [0.6666666666666666, \"#ed7953\"], [0.7777777777777778, \"#fb9f3a\"], [0.8888888888888888, \"#fdca26\"], [1.0, \"#f0f921\"]], \"type\": \"contour\"}], \"contourcarpet\": [{\"colorbar\": {\"outlinewidth\": 0, \"ticks\": \"\"}, \"type\": \"contourcarpet\"}], \"heatmap\": [{\"colorbar\": {\"outlinewidth\": 0, \"ticks\": \"\"}, \"colorscale\": [[0.0, \"#0d0887\"], [0.1111111111111111, \"#46039f\"], [0.2222222222222222, \"#7201a8\"], [0.3333333333333333, \"#9c179e\"], [0.4444444444444444, \"#bd3786\"], [0.5555555555555556, \"#d8576b\"], [0.6666666666666666, \"#ed7953\"], [0.7777777777777778, \"#fb9f3a\"], [0.8888888888888888, \"#fdca26\"], [1.0, \"#f0f921\"]], \"type\": \"heatmap\"}], \"heatmapgl\": [{\"colorbar\": {\"outlinewidth\": 0, \"ticks\": \"\"}, \"colorscale\": [[0.0, \"#0d0887\"], [0.1111111111111111, \"#46039f\"], [0.2222222222222222, \"#7201a8\"], [0.3333333333333333, \"#9c179e\"], [0.4444444444444444, \"#bd3786\"], [0.5555555555555556, \"#d8576b\"], [0.6666666666666666, \"#ed7953\"], [0.7777777777777778, \"#fb9f3a\"], [0.8888888888888888, \"#fdca26\"], [1.0, \"#f0f921\"]], \"type\": \"heatmapgl\"}], \"histogram\": [{\"marker\": {\"colorbar\": {\"outlinewidth\": 0, \"ticks\": \"\"}}, \"type\": \"histogram\"}], \"histogram2d\": [{\"colorbar\": {\"outlinewidth\": 0, \"ticks\": \"\"}, \"colorscale\": [[0.0, \"#0d0887\"], [0.1111111111111111, \"#46039f\"], [0.2222222222222222, \"#7201a8\"], [0.3333333333333333, \"#9c179e\"], [0.4444444444444444, \"#bd3786\"], [0.5555555555555556, \"#d8576b\"], [0.6666666666666666, \"#ed7953\"], [0.7777777777777778, \"#fb9f3a\"], [0.8888888888888888, \"#fdca26\"], [1.0, \"#f0f921\"]], \"type\": \"histogram2d\"}], \"histogram2dcontour\": [{\"colorbar\": {\"outlinewidth\": 0, \"ticks\": \"\"}, \"colorscale\": [[0.0, \"#0d0887\"], [0.1111111111111111, \"#46039f\"], [0.2222222222222222, \"#7201a8\"], [0.3333333333333333, \"#9c179e\"], [0.4444444444444444, \"#bd3786\"], [0.5555555555555556, \"#d8576b\"], [0.6666666666666666, \"#ed7953\"], [0.7777777777777778, \"#fb9f3a\"], [0.8888888888888888, \"#fdca26\"], [1.0, \"#f0f921\"]], \"type\": \"histogram2dcontour\"}], \"mesh3d\": [{\"colorbar\": {\"outlinewidth\": 0, \"ticks\": \"\"}, \"type\": \"mesh3d\"}], \"parcoords\": [{\"line\": {\"colorbar\": {\"outlinewidth\": 0, \"ticks\": \"\"}}, \"type\": \"parcoords\"}], \"pie\": [{\"automargin\": true, \"type\": \"pie\"}], \"scatter\": [{\"marker\": {\"colorbar\": {\"outlinewidth\": 0, \"ticks\": \"\"}}, \"type\": \"scatter\"}], \"scatter3d\": [{\"line\": {\"colorbar\": {\"outlinewidth\": 0, \"ticks\": \"\"}}, \"marker\": {\"colorbar\": {\"outlinewidth\": 0, \"ticks\": \"\"}}, \"type\": \"scatter3d\"}], \"scattercarpet\": [{\"marker\": {\"colorbar\": {\"outlinewidth\": 0, \"ticks\": \"\"}}, \"type\": \"scattercarpet\"}], \"scattergeo\": [{\"marker\": {\"colorbar\": {\"outlinewidth\": 0, \"ticks\": \"\"}}, \"type\": \"scattergeo\"}], \"scattergl\": [{\"marker\": {\"colorbar\": {\"outlinewidth\": 0, \"ticks\": \"\"}}, \"type\": \"scattergl\"}], \"scattermapbox\": [{\"marker\": {\"colorbar\": {\"outlinewidth\": 0, \"ticks\": \"\"}}, \"type\": \"scattermapbox\"}], \"scatterpolar\": [{\"marker\": {\"colorbar\": {\"outlinewidth\": 0, \"ticks\": \"\"}}, \"type\": \"scatterpolar\"}], \"scatterpolargl\": [{\"marker\": {\"colorbar\": {\"outlinewidth\": 0, \"ticks\": \"\"}}, \"type\": \"scatterpolargl\"}], \"scatterternary\": [{\"marker\": {\"colorbar\": {\"outlinewidth\": 0, \"ticks\": \"\"}}, \"type\": \"scatterternary\"}], \"surface\": [{\"colorbar\": {\"outlinewidth\": 0, \"ticks\": \"\"}, \"colorscale\": [[0.0, \"#0d0887\"], [0.1111111111111111, \"#46039f\"], [0.2222222222222222, \"#7201a8\"], [0.3333333333333333, \"#9c179e\"], [0.4444444444444444, \"#bd3786\"], [0.5555555555555556, \"#d8576b\"], [0.6666666666666666, \"#ed7953\"], [0.7777777777777778, \"#fb9f3a\"], [0.8888888888888888, \"#fdca26\"], [1.0, \"#f0f921\"]], \"type\": \"surface\"}], \"table\": [{\"cells\": {\"fill\": {\"color\": \"#EBF0F8\"}, \"line\": {\"color\": \"white\"}}, \"header\": {\"fill\": {\"color\": \"#C8D4E3\"}, \"line\": {\"color\": \"white\"}}, \"type\": \"table\"}]}, \"layout\": {\"annotationdefaults\": {\"arrowcolor\": \"#2a3f5f\", \"arrowhead\": 0, \"arrowwidth\": 1}, \"coloraxis\": {\"colorbar\": {\"outlinewidth\": 0, \"ticks\": \"\"}}, \"colorscale\": {\"diverging\": [[0, \"#8e0152\"], [0.1, \"#c51b7d\"], [0.2, \"#de77ae\"], [0.3, \"#f1b6da\"], [0.4, \"#fde0ef\"], [0.5, \"#f7f7f7\"], [0.6, \"#e6f5d0\"], [0.7, \"#b8e186\"], [0.8, \"#7fbc41\"], [0.9, \"#4d9221\"], [1, \"#276419\"]], \"sequential\": [[0.0, \"#0d0887\"], [0.1111111111111111, \"#46039f\"], [0.2222222222222222, \"#7201a8\"], [0.3333333333333333, \"#9c179e\"], [0.4444444444444444, \"#bd3786\"], [0.5555555555555556, \"#d8576b\"], [0.6666666666666666, \"#ed7953\"], [0.7777777777777778, \"#fb9f3a\"], [0.8888888888888888, \"#fdca26\"], [1.0, \"#f0f921\"]], \"sequentialminus\": [[0.0, \"#0d0887\"], [0.1111111111111111, \"#46039f\"], [0.2222222222222222, \"#7201a8\"], [0.3333333333333333, \"#9c179e\"], [0.4444444444444444, \"#bd3786\"], [0.5555555555555556, \"#d8576b\"], [0.6666666666666666, \"#ed7953\"], [0.7777777777777778, \"#fb9f3a\"], [0.8888888888888888, \"#fdca26\"], [1.0, \"#f0f921\"]]}, \"colorway\": [\"#636efa\", \"#EF553B\", \"#00cc96\", \"#ab63fa\", \"#FFA15A\", \"#19d3f3\", \"#FF6692\", \"#B6E880\", \"#FF97FF\", \"#FECB52\"], \"font\": {\"color\": \"#2a3f5f\"}, \"geo\": {\"bgcolor\": \"white\", \"lakecolor\": \"white\", \"landcolor\": \"#E5ECF6\", \"showlakes\": true, \"showland\": true, \"subunitcolor\": \"white\"}, \"hoverlabel\": {\"align\": \"left\"}, \"hovermode\": \"closest\", \"mapbox\": {\"style\": \"light\"}, \"paper_bgcolor\": \"white\", \"plot_bgcolor\": \"#E5ECF6\", \"polar\": {\"angularaxis\": {\"gridcolor\": \"white\", \"linecolor\": \"white\", \"ticks\": \"\"}, \"bgcolor\": \"#E5ECF6\", \"radialaxis\": {\"gridcolor\": \"white\", \"linecolor\": \"white\", \"ticks\": \"\"}}, \"scene\": {\"xaxis\": {\"backgroundcolor\": \"#E5ECF6\", \"gridcolor\": \"white\", \"gridwidth\": 2, \"linecolor\": \"white\", \"showbackground\": true, \"ticks\": \"\", \"zerolinecolor\": \"white\"}, \"yaxis\": {\"backgroundcolor\": \"#E5ECF6\", \"gridcolor\": \"white\", \"gridwidth\": 2, \"linecolor\": \"white\", \"showbackground\": true, \"ticks\": \"\", \"zerolinecolor\": \"white\"}, \"zaxis\": {\"backgroundcolor\": \"#E5ECF6\", \"gridcolor\": \"white\", \"gridwidth\": 2, \"linecolor\": \"white\", \"showbackground\": true, \"ticks\": \"\", \"zerolinecolor\": \"white\"}}, \"shapedefaults\": {\"line\": {\"color\": \"#2a3f5f\"}}, \"ternary\": {\"aaxis\": {\"gridcolor\": \"white\", \"linecolor\": \"white\", \"ticks\": \"\"}, \"baxis\": {\"gridcolor\": \"white\", \"linecolor\": \"white\", \"ticks\": \"\"}, \"bgcolor\": \"#E5ECF6\", \"caxis\": {\"gridcolor\": \"white\", \"linecolor\": \"white\", \"ticks\": \"\"}}, \"title\": {\"x\": 0.05}, \"xaxis\": {\"automargin\": true, \"gridcolor\": \"white\", \"linecolor\": \"white\", \"ticks\": \"\", \"title\": {\"standoff\": 15}, \"zerolinecolor\": \"white\", \"zerolinewidth\": 2}, \"yaxis\": {\"automargin\": true, \"gridcolor\": \"white\", \"linecolor\": \"white\", \"ticks\": \"\", \"title\": {\"standoff\": 15}, \"zerolinecolor\": \"white\", \"zerolinewidth\": 2}}}, \"xaxis\": {\"anchor\": \"y\", \"domain\": [0.0, 1.0], \"title\": {\"text\": \"age\"}}, \"yaxis\": {\"anchor\": \"x\", \"domain\": [0.0, 1.0], \"title\": {\"text\": \"count\"}}},\n",
              "                        {\"responsive\": true}\n",
              "                    ).then(function(){\n",
              "                            \n",
              "var gd = document.getElementById('f20efdcd-ce0e-45c7-a1c9-cc114de3df70');\n",
              "var x = new MutationObserver(function (mutations, observer) {{\n",
              "        var display = window.getComputedStyle(gd).display;\n",
              "        if (!display || display === 'none') {{\n",
              "            console.log([gd, 'removed!']);\n",
              "            Plotly.purge(gd);\n",
              "            observer.disconnect();\n",
              "        }}\n",
              "}});\n",
              "\n",
              "// Listen for the removal of the full notebook cells\n",
              "var notebookContainer = gd.closest('#notebook-container');\n",
              "if (notebookContainer) {{\n",
              "    x.observe(notebookContainer, {childList: true});\n",
              "}}\n",
              "\n",
              "// Listen for the clearing of the current output cell\n",
              "var outputEl = gd.closest('.output');\n",
              "if (outputEl) {{\n",
              "    x.observe(outputEl, {childList: true});\n",
              "}}\n",
              "\n",
              "                        })\n",
              "                };\n",
              "                \n",
              "            </script>\n",
              "        </div>\n",
              "</body>\n",
              "</html>"
            ]
          },
          "metadata": {}
        }
      ]
    },
    {
      "cell_type": "code",
      "metadata": {
        "id": "domestic-gentleman"
      },
      "source": [
        "import numpy as np\n",
        "import re\n",
        "from sklearn.model_selection import train_test_split"
      ],
      "id": "domestic-gentleman",
      "execution_count": 15,
      "outputs": []
    },
    {
      "cell_type": "code",
      "metadata": {
        "colab": {
          "base_uri": "https://localhost:8080/",
          "height": 204
        },
        "id": "immediate-monday",
        "outputId": "8d195230-15c2-4ed9-d3f9-6c70b6613811"
      },
      "source": [
        "titanic.head()"
      ],
      "id": "immediate-monday",
      "execution_count": 16,
      "outputs": [
        {
          "output_type": "execute_result",
          "data": {
            "text/html": [
              "<div>\n",
              "<style scoped>\n",
              "    .dataframe tbody tr th:only-of-type {\n",
              "        vertical-align: middle;\n",
              "    }\n",
              "\n",
              "    .dataframe tbody tr th {\n",
              "        vertical-align: top;\n",
              "    }\n",
              "\n",
              "    .dataframe thead th {\n",
              "        text-align: right;\n",
              "    }\n",
              "</style>\n",
              "<table border=\"1\" class=\"dataframe\">\n",
              "  <thead>\n",
              "    <tr style=\"text-align: right;\">\n",
              "      <th></th>\n",
              "      <th>pclass</th>\n",
              "      <th>survived</th>\n",
              "      <th>name</th>\n",
              "      <th>sex</th>\n",
              "      <th>age</th>\n",
              "      <th>sibsp</th>\n",
              "      <th>parch</th>\n",
              "      <th>ticket</th>\n",
              "      <th>fare</th>\n",
              "      <th>cabin</th>\n",
              "      <th>embarked</th>\n",
              "      <th>person</th>\n",
              "    </tr>\n",
              "  </thead>\n",
              "  <tbody>\n",
              "    <tr>\n",
              "      <th>0</th>\n",
              "      <td>1</td>\n",
              "      <td>1</td>\n",
              "      <td>Allen, Miss. Elisabeth Walton</td>\n",
              "      <td>female</td>\n",
              "      <td>29.0000</td>\n",
              "      <td>0</td>\n",
              "      <td>0</td>\n",
              "      <td>24160</td>\n",
              "      <td>211.3375</td>\n",
              "      <td>B5</td>\n",
              "      <td>S</td>\n",
              "      <td>female</td>\n",
              "    </tr>\n",
              "    <tr>\n",
              "      <th>1</th>\n",
              "      <td>1</td>\n",
              "      <td>1</td>\n",
              "      <td>Allison, Master. Hudson Trevor</td>\n",
              "      <td>male</td>\n",
              "      <td>0.9167</td>\n",
              "      <td>1</td>\n",
              "      <td>2</td>\n",
              "      <td>113781</td>\n",
              "      <td>151.55</td>\n",
              "      <td>C22 C26</td>\n",
              "      <td>S</td>\n",
              "      <td>child</td>\n",
              "    </tr>\n",
              "    <tr>\n",
              "      <th>2</th>\n",
              "      <td>1</td>\n",
              "      <td>0</td>\n",
              "      <td>Allison, Miss. Helen Loraine</td>\n",
              "      <td>female</td>\n",
              "      <td>2.0000</td>\n",
              "      <td>1</td>\n",
              "      <td>2</td>\n",
              "      <td>113781</td>\n",
              "      <td>151.55</td>\n",
              "      <td>C22 C26</td>\n",
              "      <td>S</td>\n",
              "      <td>child</td>\n",
              "    </tr>\n",
              "    <tr>\n",
              "      <th>3</th>\n",
              "      <td>1</td>\n",
              "      <td>0</td>\n",
              "      <td>Allison, Mr. Hudson Joshua Creighton</td>\n",
              "      <td>male</td>\n",
              "      <td>30.0000</td>\n",
              "      <td>1</td>\n",
              "      <td>2</td>\n",
              "      <td>113781</td>\n",
              "      <td>151.55</td>\n",
              "      <td>C22 C26</td>\n",
              "      <td>S</td>\n",
              "      <td>male</td>\n",
              "    </tr>\n",
              "    <tr>\n",
              "      <th>4</th>\n",
              "      <td>1</td>\n",
              "      <td>0</td>\n",
              "      <td>Allison, Mrs. Hudson J C (Bessie Waldo Daniels)</td>\n",
              "      <td>female</td>\n",
              "      <td>25.0000</td>\n",
              "      <td>1</td>\n",
              "      <td>2</td>\n",
              "      <td>113781</td>\n",
              "      <td>151.55</td>\n",
              "      <td>C22 C26</td>\n",
              "      <td>S</td>\n",
              "      <td>female</td>\n",
              "    </tr>\n",
              "  </tbody>\n",
              "</table>\n",
              "</div>"
            ],
            "text/plain": [
              "   pclass  survived  ... embarked  person\n",
              "0       1         1  ...        S  female\n",
              "1       1         1  ...        S   child\n",
              "2       1         0  ...        S   child\n",
              "3       1         0  ...        S    male\n",
              "4       1         0  ...        S  female\n",
              "\n",
              "[5 rows x 12 columns]"
            ]
          },
          "metadata": {},
          "execution_count": 16
        }
      ]
    },
    {
      "cell_type": "code",
      "metadata": {
        "id": "varied-property"
      },
      "source": [
        "def extract_title(data: pd.core.frame.DataFrame) -> pd.core.series.Series:\n",
        "\n",
        "    titles = data.name.apply(lambda x: re.search('([A-Za-z]+)\\.', x).group(0))\n",
        "\n",
        "    l = ['Miss.','Master.','Mr.','Mrs.']\n",
        "    \n",
        "    titles = (titles.replace('Mlle.', 'Miss.').replace('Ms.', 'Miss.').replace('Mme.', 'Mrs.').apply(lambda x: 'Rare' if x not in l else x))\n",
        "    \n",
        "    return titles"
      ],
      "id": "varied-property",
      "execution_count": 20,
      "outputs": []
    },
    {
      "cell_type": "code",
      "metadata": {
        "colab": {
          "base_uri": "https://localhost:8080/"
        },
        "id": "growing-administrator",
        "outputId": "b6dcd969-7f5e-49b9-f534-86495e5a1c23"
      },
      "source": [
        "extract_title(titanic)"
      ],
      "id": "growing-administrator",
      "execution_count": 21,
      "outputs": [
        {
          "output_type": "execute_result",
          "data": {
            "text/plain": [
              "0         Miss.\n",
              "1       Master.\n",
              "2         Miss.\n",
              "3           Mr.\n",
              "4          Mrs.\n",
              "         ...   \n",
              "1304      Miss.\n",
              "1305      Miss.\n",
              "1306        Mr.\n",
              "1307        Mr.\n",
              "1308        Mr.\n",
              "Name: name, Length: 1309, dtype: object"
            ]
          },
          "metadata": {},
          "execution_count": 21
        }
      ]
    },
    {
      "cell_type": "code",
      "metadata": {
        "id": "graphic-monthly"
      },
      "source": [
        "def impute_age(data: pd.core.frame.DataFrame) -> pd.core.series.Series:\n",
        "    from random import randrange, uniform\n",
        "    \n",
        "    grouped_means = data.groupby(['sex','pclass','title']).mean().age.reset_index()\n",
        "    grouped_stds = data.groupby(['sex','pclass','title']).std().age.reset_index()\n",
        "    \n",
        "    def fill_age(row):\n",
        "        condition = (\n",
        "            (grouped_means['sex'] == row['sex']) & \n",
        "            (grouped_means['title'] == row['title']) & \n",
        "            (grouped_means['pclass'] == row['pclass'])\n",
        "        ) \n",
        "        mean = grouped_means[condition]['age'].values[0]\n",
        "        std = grouped_stds[condition]['age'].values[0]\n",
        "        return uniform(mean-std, mean+std)\n",
        "\n",
        "    return data.apply(lambda row: fill_age(row) if np.isnan(row['age']) else row['age'], axis=1)"
      ],
      "id": "graphic-monthly",
      "execution_count": 22,
      "outputs": []
    },
    {
      "cell_type": "code",
      "metadata": {
        "colab": {
          "base_uri": "https://localhost:8080/"
        },
        "id": "another-choice",
        "outputId": "3b619736-aaff-4993-d73a-57a20463c1c0"
      },
      "source": [
        "titanic['title'] = extract_title(titanic)\n",
        "impute_age(titanic)"
      ],
      "id": "another-choice",
      "execution_count": 23,
      "outputs": [
        {
          "output_type": "execute_result",
          "data": {
            "text/plain": [
              "0       29.000000\n",
              "1        0.916700\n",
              "2        2.000000\n",
              "3       30.000000\n",
              "4       25.000000\n",
              "          ...    \n",
              "1304    14.500000\n",
              "1305    17.968987\n",
              "1306    26.500000\n",
              "1307    27.000000\n",
              "1308    29.000000\n",
              "Length: 1309, dtype: float64"
            ]
          },
          "metadata": {},
          "execution_count": 23
        }
      ]
    },
    {
      "cell_type": "code",
      "metadata": {
        "id": "atomic-brake"
      },
      "source": [
        "def impute_cabin(data: pd.core.frame.DataFrame) -> pd.core.series.Series:\n",
        "    \"\"\"Fill with model and map each cabin value with the cabin letter.\"\"\"\n",
        "    return data.cabin.fillna(data.cabin.mode()).map(lambda c: str(c)[0])"
      ],
      "id": "atomic-brake",
      "execution_count": 24,
      "outputs": []
    },
    {
      "cell_type": "code",
      "metadata": {
        "colab": {
          "base_uri": "https://localhost:8080/"
        },
        "id": "bulgarian-islam",
        "outputId": "3c1a2c9b-90ce-4a3f-b1ff-db4f2b3b036e"
      },
      "source": [
        "titanic.cabin.mode()"
      ],
      "id": "bulgarian-islam",
      "execution_count": 25,
      "outputs": [
        {
          "output_type": "execute_result",
          "data": {
            "text/plain": [
              "0    C23 C25 C27\n",
              "dtype: object"
            ]
          },
          "metadata": {},
          "execution_count": 25
        }
      ]
    },
    {
      "cell_type": "code",
      "metadata": {
        "id": "medieval-noise",
        "colab": {
          "base_uri": "https://localhost:8080/"
        },
        "outputId": "988aee48-6845-42e5-e891-f1d7f18eec63"
      },
      "source": [
        "impute_cabin(titanic).value_counts()"
      ],
      "id": "medieval-noise",
      "execution_count": 27,
      "outputs": [
        {
          "output_type": "execute_result",
          "data": {
            "text/plain": [
              "n    1014\n",
              "C      94\n",
              "B      65\n",
              "D      46\n",
              "E      41\n",
              "A      22\n",
              "F      21\n",
              "G       5\n",
              "T       1\n",
              "Name: cabin, dtype: int64"
            ]
          },
          "metadata": {},
          "execution_count": 27
        }
      ]
    },
    {
      "cell_type": "code",
      "metadata": {
        "id": "electoral-rocket"
      },
      "source": [
        "def generate_family_features(data: pd.core.frame.DataFrame) -> pd.core.frame.DataFrame:\n",
        "    familysize = data['parch'] + data['sibsp'] + 1\n",
        "    singleton = familysize.apply(lambda s: 1 if s == 1 else 0)\n",
        "    smallfamily = familysize.apply(lambda s: 1 if 2 <= s <= 4 else 0)\n",
        "    largefamily = familysize.apply(lambda s: 1 if 5 <= s else 0)\n",
        "    return pd.DataFrame({\n",
        "        'familysize': familysize,\n",
        "        'singleton': singleton,\n",
        "        'smallfamily': smallfamily,\n",
        "        'largefamily': largefamily\n",
        "    })"
      ],
      "id": "electoral-rocket",
      "execution_count": 32,
      "outputs": []
    },
    {
      "cell_type": "code",
      "metadata": {
        "id": "urban-spanish",
        "colab": {
          "base_uri": "https://localhost:8080/",
          "height": 419
        },
        "outputId": "c0e47be2-8a43-4df8-e123-1b237db07a68"
      },
      "source": [
        "generate_family_features(titanic)"
      ],
      "id": "urban-spanish",
      "execution_count": 33,
      "outputs": [
        {
          "output_type": "execute_result",
          "data": {
            "text/html": [
              "<div>\n",
              "<style scoped>\n",
              "    .dataframe tbody tr th:only-of-type {\n",
              "        vertical-align: middle;\n",
              "    }\n",
              "\n",
              "    .dataframe tbody tr th {\n",
              "        vertical-align: top;\n",
              "    }\n",
              "\n",
              "    .dataframe thead th {\n",
              "        text-align: right;\n",
              "    }\n",
              "</style>\n",
              "<table border=\"1\" class=\"dataframe\">\n",
              "  <thead>\n",
              "    <tr style=\"text-align: right;\">\n",
              "      <th></th>\n",
              "      <th>familysize</th>\n",
              "      <th>singleton</th>\n",
              "      <th>smallfamily</th>\n",
              "      <th>largefamily</th>\n",
              "    </tr>\n",
              "  </thead>\n",
              "  <tbody>\n",
              "    <tr>\n",
              "      <th>0</th>\n",
              "      <td>1</td>\n",
              "      <td>1</td>\n",
              "      <td>0</td>\n",
              "      <td>0</td>\n",
              "    </tr>\n",
              "    <tr>\n",
              "      <th>1</th>\n",
              "      <td>4</td>\n",
              "      <td>0</td>\n",
              "      <td>1</td>\n",
              "      <td>0</td>\n",
              "    </tr>\n",
              "    <tr>\n",
              "      <th>2</th>\n",
              "      <td>4</td>\n",
              "      <td>0</td>\n",
              "      <td>1</td>\n",
              "      <td>0</td>\n",
              "    </tr>\n",
              "    <tr>\n",
              "      <th>3</th>\n",
              "      <td>4</td>\n",
              "      <td>0</td>\n",
              "      <td>1</td>\n",
              "      <td>0</td>\n",
              "    </tr>\n",
              "    <tr>\n",
              "      <th>4</th>\n",
              "      <td>4</td>\n",
              "      <td>0</td>\n",
              "      <td>1</td>\n",
              "      <td>0</td>\n",
              "    </tr>\n",
              "    <tr>\n",
              "      <th>...</th>\n",
              "      <td>...</td>\n",
              "      <td>...</td>\n",
              "      <td>...</td>\n",
              "      <td>...</td>\n",
              "    </tr>\n",
              "    <tr>\n",
              "      <th>1304</th>\n",
              "      <td>2</td>\n",
              "      <td>0</td>\n",
              "      <td>1</td>\n",
              "      <td>0</td>\n",
              "    </tr>\n",
              "    <tr>\n",
              "      <th>1305</th>\n",
              "      <td>2</td>\n",
              "      <td>0</td>\n",
              "      <td>1</td>\n",
              "      <td>0</td>\n",
              "    </tr>\n",
              "    <tr>\n",
              "      <th>1306</th>\n",
              "      <td>1</td>\n",
              "      <td>1</td>\n",
              "      <td>0</td>\n",
              "      <td>0</td>\n",
              "    </tr>\n",
              "    <tr>\n",
              "      <th>1307</th>\n",
              "      <td>1</td>\n",
              "      <td>1</td>\n",
              "      <td>0</td>\n",
              "      <td>0</td>\n",
              "    </tr>\n",
              "    <tr>\n",
              "      <th>1308</th>\n",
              "      <td>1</td>\n",
              "      <td>1</td>\n",
              "      <td>0</td>\n",
              "      <td>0</td>\n",
              "    </tr>\n",
              "  </tbody>\n",
              "</table>\n",
              "<p>1309 rows × 4 columns</p>\n",
              "</div>"
            ],
            "text/plain": [
              "      familysize  singleton  smallfamily  largefamily\n",
              "0              1          1            0            0\n",
              "1              4          0            1            0\n",
              "2              4          0            1            0\n",
              "3              4          0            1            0\n",
              "4              4          0            1            0\n",
              "...          ...        ...          ...          ...\n",
              "1304           2          0            1            0\n",
              "1305           2          0            1            0\n",
              "1306           1          1            0            0\n",
              "1307           1          1            0            0\n",
              "1308           1          1            0            0\n",
              "\n",
              "[1309 rows x 4 columns]"
            ]
          },
          "metadata": {},
          "execution_count": 33
        }
      ]
    },
    {
      "cell_type": "code",
      "metadata": {
        "id": "specialized-graduation"
      },
      "source": [
        "def categorise_ticket(data: pd.core.frame.DataFrame) -> pd.core.series.Series:\n",
        "    return data.ticket.astype('category').cat.codes"
      ],
      "id": "specialized-graduation",
      "execution_count": 35,
      "outputs": []
    },
    {
      "cell_type": "code",
      "metadata": {
        "id": "exempt-miracle",
        "colab": {
          "base_uri": "https://localhost:8080/"
        },
        "outputId": "2620f5c2-d30f-4e29-b06b-399ae6761924"
      },
      "source": [
        "titanic.ticket"
      ],
      "id": "exempt-miracle",
      "execution_count": 36,
      "outputs": [
        {
          "output_type": "execute_result",
          "data": {
            "text/plain": [
              "0        24160\n",
              "1       113781\n",
              "2       113781\n",
              "3       113781\n",
              "4       113781\n",
              "         ...  \n",
              "1304      2665\n",
              "1305      2665\n",
              "1306      2656\n",
              "1307      2670\n",
              "1308    315082\n",
              "Name: ticket, Length: 1309, dtype: object"
            ]
          },
          "metadata": {},
          "execution_count": 36
        }
      ]
    },
    {
      "cell_type": "code",
      "metadata": {
        "id": "saving-performer",
        "colab": {
          "base_uri": "https://localhost:8080/"
        },
        "outputId": "ba58df3e-0987-4c91-9171-fb84937aca9c"
      },
      "source": [
        "categorise_ticket(titanic).value_counts()"
      ],
      "id": "saving-performer",
      "execution_count": 37,
      "outputs": [
        {
          "output_type": "execute_result",
          "data": {
            "text/plain": [
              "778    11\n",
              "104     8\n",
              "775     8\n",
              "847     7\n",
              "824     7\n",
              "       ..\n",
              "531     1\n",
              "530     1\n",
              "529     1\n",
              "528     1\n",
              "422     1\n",
              "Length: 929, dtype: int64"
            ]
          },
          "metadata": {},
          "execution_count": 37
        }
      ]
    },
    {
      "cell_type": "code",
      "metadata": {
        "id": "directed-cleanup"
      },
      "source": [
        "def extract_ticket_prefix(data: pd.core.frame.DataFrame) -> pd.core.series.Series:\n",
        "    \"\"\"Extracts each prefix of the ticket, returns 'XXX' if no prefix.\"\"\"\n",
        "    def prefix(ticket):\n",
        "        ticket = ticket.split()\n",
        "        if ticket[0].isdigit():\n",
        "            return 'XXX'\n",
        "        return ticket[0]\n",
        "\n",
        "    return data.ticket.map(prefix)"
      ],
      "id": "directed-cleanup",
      "execution_count": 40,
      "outputs": []
    },
    {
      "cell_type": "code",
      "metadata": {
        "id": "processed-deployment",
        "colab": {
          "base_uri": "https://localhost:8080/"
        },
        "outputId": "726c2609-7473-40ba-d035-c20143ceeebe"
      },
      "source": [
        "extract_ticket_prefix(titanic).value_counts()"
      ],
      "id": "processed-deployment",
      "execution_count": 41,
      "outputs": [
        {
          "output_type": "execute_result",
          "data": {
            "text/plain": [
              "XXX           957\n",
              "PC             92\n",
              "C.A.           46\n",
              "SOTON/O.Q.     16\n",
              "W./C.          14\n",
              "STON/O         14\n",
              "A/5            12\n",
              "CA.            12\n",
              "SC/PARIS       11\n",
              "A/5.           10\n",
              "CA             10\n",
              "F.C.C.          9\n",
              "C               8\n",
              "SOTON/OQ        8\n",
              "S.O./P.P.       7\n",
              "STON/O2.        7\n",
              "S.O.C.          7\n",
              "A/4             6\n",
              "SC/AH           5\n",
              "SC/Paris        5\n",
              "LINE            4\n",
              "PP              4\n",
              "A/4.            3\n",
              "SOTON/O2        3\n",
              "F.C.            3\n",
              "A./5.           3\n",
              "S.C./PARIS      3\n",
              "A.5.            3\n",
              "SC              2\n",
              "WE/P            2\n",
              "W.E.P.          2\n",
              "P/PP            2\n",
              "Fa              1\n",
              "A.              1\n",
              "AQ/3.           1\n",
              "S.O.P.          1\n",
              "S.W./PP         1\n",
              "STON/OQ.        1\n",
              "W/C             1\n",
              "C.A./SOTON      1\n",
              "SC/A4           1\n",
              "SW/PP           1\n",
              "AQ/4            1\n",
              "A4.             1\n",
              "S.P.            1\n",
              "S.C./A.4.       1\n",
              "A/S             1\n",
              "SCO/W           1\n",
              "SO/C            1\n",
              "LP              1\n",
              "SC/A.3          1\n",
              "Name: ticket, dtype: int64"
            ]
          },
          "metadata": {},
          "execution_count": 41
        }
      ]
    },
    {
      "cell_type": "code",
      "metadata": {
        "id": "ePX-hvXPvfN0"
      },
      "source": [
        "def impute_fare(data: pd.core.frame.DataFrame) -> pd.core.series.Series:\n",
        "    fare = data.fare.astype(float)\n",
        "    return fare.fillna(fare.mean())\n",
        "\n",
        "def impute_embarked(data: pd.core.frame.DataFrame) -> pd.core.series.Series:\n",
        "    return data.embarked.fillna(data.embarked.mode()[0])\n",
        "\n",
        "def binarize_sex(data: pd.core.frame.DataFrame) -> pd.core.series.Series:\n",
        "    return data['sex'].apply(lambda x: 1 if x=='male' else 0)\n",
        "\n",
        "def categorise_pclass(data: pd.core.frame.DataFrame) -> pd.core.series.Series:\n",
        "    return data.pclass.astype('category')"
      ],
      "id": "ePX-hvXPvfN0",
      "execution_count": null,
      "outputs": []
    },
    {
      "cell_type": "code",
      "metadata": {
        "id": "pharmaceutical-fossil"
      },
      "source": [
        "def generate_categorical_features(data: pd.core.frame.DataFrame) -> pd.core.series.Series:\n",
        "    data['title'] = extract_title(data)\n",
        "    data['pclass'] = categorise_pclass(data)\n",
        "    data['age'] = impute_age(data)\n",
        "    data['fare'] = impute_fare(data)\n",
        "    data['embarked'] = impute_embarked(data)\n",
        "    data['sex'] = binarize_sex(data)\n",
        "    data['cabin'] = impute_cabin(data)\n",
        "    data = data.join(generate_family_features(data))\n",
        "    return data.drop(columns=['name', 'ticket'])"
      ],
      "id": "pharmaceutical-fossil",
      "execution_count": 44,
      "outputs": []
    },
    {
      "cell_type": "code",
      "metadata": {
        "id": "tight-czech",
        "colab": {
          "base_uri": "https://localhost:8080/"
        },
        "outputId": "2a5e23fb-cd31-4b32-91f1-5f6cf579ff9c"
      },
      "source": [
        "impute_fare(titanic)"
      ],
      "id": "tight-czech",
      "execution_count": 42,
      "outputs": [
        {
          "output_type": "execute_result",
          "data": {
            "text/plain": [
              "0       211.3375\n",
              "1       151.5500\n",
              "2       151.5500\n",
              "3       151.5500\n",
              "4       151.5500\n",
              "          ...   \n",
              "1304     14.4542\n",
              "1305     14.4542\n",
              "1306      7.2250\n",
              "1307      7.2250\n",
              "1308      7.8750\n",
              "Name: fare, Length: 1309, dtype: float64"
            ]
          },
          "metadata": {},
          "execution_count": 42
        }
      ]
    },
    {
      "cell_type": "code",
      "metadata": {
        "id": "automotive-alloy"
      },
      "source": [
        "features = generate_categorical_features(titanic)"
      ],
      "id": "automotive-alloy",
      "execution_count": 45,
      "outputs": []
    },
    {
      "cell_type": "code",
      "metadata": {
        "id": "orange-intermediate",
        "colab": {
          "base_uri": "https://localhost:8080/"
        },
        "outputId": "060ba28d-ec9c-46a6-e362-b88e7a270dc5"
      },
      "source": [
        "features.shape"
      ],
      "id": "orange-intermediate",
      "execution_count": 46,
      "outputs": [
        {
          "output_type": "execute_result",
          "data": {
            "text/plain": [
              "(1309, 15)"
            ]
          },
          "metadata": {},
          "execution_count": 46
        }
      ]
    },
    {
      "cell_type": "code",
      "metadata": {
        "id": "unauthorized-likelihood",
        "colab": {
          "base_uri": "https://localhost:8080/"
        },
        "outputId": "49f99e90-be4b-4bf7-be96-c2030a9047ad"
      },
      "source": [
        "features.pclass"
      ],
      "id": "unauthorized-likelihood",
      "execution_count": 47,
      "outputs": [
        {
          "output_type": "execute_result",
          "data": {
            "text/plain": [
              "0       1\n",
              "1       1\n",
              "2       1\n",
              "3       1\n",
              "4       1\n",
              "       ..\n",
              "1304    3\n",
              "1305    3\n",
              "1306    3\n",
              "1307    3\n",
              "1308    3\n",
              "Name: pclass, Length: 1309, dtype: category\n",
              "Categories (3, int64): [1, 2, 3]"
            ]
          },
          "metadata": {},
          "execution_count": 47
        }
      ]
    },
    {
      "cell_type": "code",
      "metadata": {
        "id": "paperback-poultry",
        "colab": {
          "base_uri": "https://localhost:8080/"
        },
        "outputId": "b6718e1d-3ce1-4bb7-9ed4-1533474062ab"
      },
      "source": [
        "features = pd.get_dummies(features)\n",
        "features.iloc[0]"
      ],
      "id": "paperback-poultry",
      "execution_count": 48,
      "outputs": [
        {
          "output_type": "execute_result",
          "data": {
            "text/plain": [
              "survived           1.0000\n",
              "sex                0.0000\n",
              "age               29.0000\n",
              "sibsp              0.0000\n",
              "parch              0.0000\n",
              "fare             211.3375\n",
              "familysize         1.0000\n",
              "singleton          1.0000\n",
              "smallfamily        0.0000\n",
              "largefamily        0.0000\n",
              "pclass_1           1.0000\n",
              "pclass_2           0.0000\n",
              "pclass_3           0.0000\n",
              "cabin_A            0.0000\n",
              "cabin_B            1.0000\n",
              "cabin_C            0.0000\n",
              "cabin_D            0.0000\n",
              "cabin_E            0.0000\n",
              "cabin_F            0.0000\n",
              "cabin_G            0.0000\n",
              "cabin_T            0.0000\n",
              "cabin_n            0.0000\n",
              "embarked_C         0.0000\n",
              "embarked_Q         0.0000\n",
              "embarked_S         1.0000\n",
              "person_child       0.0000\n",
              "person_female      1.0000\n",
              "person_male        0.0000\n",
              "title_Master.      0.0000\n",
              "title_Miss.        1.0000\n",
              "title_Mr.          0.0000\n",
              "title_Mrs.         0.0000\n",
              "title_Rare         0.0000\n",
              "Name: 0, dtype: float64"
            ]
          },
          "metadata": {},
          "execution_count": 48
        }
      ]
    },
    {
      "cell_type": "code",
      "metadata": {
        "id": "continuous-archive"
      },
      "source": [
        "def categorize_age(data: pd.core.frame.DataFrame, bins: int=5) -> pd.core.series.Series: \n",
        "     return pd.cut(data.age, bins).astype('category').cat.codes\n",
        "\n",
        "def categorize_fare(data: pd.core.frame.DataFrame, bins: int=4) -> pd.core.series.Series:    \n",
        "     return pd.qcut(data.fare, bins).astype('category').cat.codes"
      ],
      "id": "continuous-archive",
      "execution_count": 52,
      "outputs": []
    },
    {
      "cell_type": "code",
      "metadata": {
        "id": "signed-scanner"
      },
      "source": [
        "features['age_cat'] = categorize_age(features)\n",
        "features['fare_cat'] = categorize_fare(features)"
      ],
      "id": "signed-scanner",
      "execution_count": 53,
      "outputs": []
    },
    {
      "cell_type": "code",
      "metadata": {
        "id": "optical-jungle",
        "colab": {
          "base_uri": "https://localhost:8080/",
          "height": 204
        },
        "outputId": "8d350e6b-3956-4857-8645-119a85357254"
      },
      "source": [
        "features[['age', 'age_cat']].head()"
      ],
      "id": "optical-jungle",
      "execution_count": 54,
      "outputs": [
        {
          "output_type": "execute_result",
          "data": {
            "text/html": [
              "<div>\n",
              "<style scoped>\n",
              "    .dataframe tbody tr th:only-of-type {\n",
              "        vertical-align: middle;\n",
              "    }\n",
              "\n",
              "    .dataframe tbody tr th {\n",
              "        vertical-align: top;\n",
              "    }\n",
              "\n",
              "    .dataframe thead th {\n",
              "        text-align: right;\n",
              "    }\n",
              "</style>\n",
              "<table border=\"1\" class=\"dataframe\">\n",
              "  <thead>\n",
              "    <tr style=\"text-align: right;\">\n",
              "      <th></th>\n",
              "      <th>age</th>\n",
              "      <th>age_cat</th>\n",
              "    </tr>\n",
              "  </thead>\n",
              "  <tbody>\n",
              "    <tr>\n",
              "      <th>0</th>\n",
              "      <td>29.0000</td>\n",
              "      <td>1</td>\n",
              "    </tr>\n",
              "    <tr>\n",
              "      <th>1</th>\n",
              "      <td>0.9167</td>\n",
              "      <td>0</td>\n",
              "    </tr>\n",
              "    <tr>\n",
              "      <th>2</th>\n",
              "      <td>2.0000</td>\n",
              "      <td>0</td>\n",
              "    </tr>\n",
              "    <tr>\n",
              "      <th>3</th>\n",
              "      <td>30.0000</td>\n",
              "      <td>1</td>\n",
              "    </tr>\n",
              "    <tr>\n",
              "      <th>4</th>\n",
              "      <td>25.0000</td>\n",
              "      <td>1</td>\n",
              "    </tr>\n",
              "  </tbody>\n",
              "</table>\n",
              "</div>"
            ],
            "text/plain": [
              "       age  age_cat\n",
              "0  29.0000        1\n",
              "1   0.9167        0\n",
              "2   2.0000        0\n",
              "3  30.0000        1\n",
              "4  25.0000        1"
            ]
          },
          "metadata": {},
          "execution_count": 54
        }
      ]
    },
    {
      "cell_type": "code",
      "metadata": {
        "id": "maritime-attribute"
      },
      "source": [
        "def generate_features(data: pd.core.frame.DataFrame) -> pd.core.frame.DataFrame:\n",
        "    features = generate_categorical_features(data)\n",
        "    features = pd.get_dummies(features)\n",
        "    features['age_cat'] = categorize_age(features)\n",
        "    features['fare_cat'] = categorize_fare(features)\n",
        "    return features"
      ],
      "id": "maritime-attribute",
      "execution_count": 55,
      "outputs": []
    },
    {
      "cell_type": "code",
      "metadata": {
        "id": "aware-gnome"
      },
      "source": [
        "from sklearn.ensemble import RandomForestClassifier\n",
        "from sklearn.ensemble import GradientBoostingClassifier\n",
        "from sklearn.feature_selection import SelectKBest\n",
        "from sklearn.model_selection import StratifiedKFold\n",
        "from sklearn.model_selection import GridSearchCV\n",
        "from sklearn.model_selection import cross_val_score\n",
        "from sklearn.feature_selection import SelectFromModel\n",
        "from sklearn.linear_model import LogisticRegression, LogisticRegressionCV"
      ],
      "id": "aware-gnome",
      "execution_count": 56,
      "outputs": []
    },
    {
      "cell_type": "code",
      "metadata": {
        "id": "middle-engineer"
      },
      "source": [
        "X = generate_features(titanic)\n",
        "train, test = train_test_split(X, test_size=0.3, shuffle=True, random_state=42)"
      ],
      "id": "middle-engineer",
      "execution_count": 57,
      "outputs": []
    },
    {
      "cell_type": "code",
      "metadata": {
        "id": "paperback-denver"
      },
      "source": [
        "y_train = train.survived\n",
        "X_train = train.drop(columns = 'survived').reset_index().drop(['index'], axis=1)\n",
        "y_test = test.survived\n",
        "X_test = test.drop(columns = 'survived').reset_index().drop(['index'], axis=1)"
      ],
      "id": "paperback-denver",
      "execution_count": 58,
      "outputs": []
    },
    {
      "cell_type": "code",
      "metadata": {
        "id": "robust-morocco",
        "colab": {
          "base_uri": "https://localhost:8080/"
        },
        "outputId": "60650eb5-1e5d-449a-b863-cdb5d5b1c53c"
      },
      "source": [
        "X_train.shape, X_test.shape"
      ],
      "id": "robust-morocco",
      "execution_count": 59,
      "outputs": [
        {
          "output_type": "execute_result",
          "data": {
            "text/plain": [
              "((916, 34), (393, 34))"
            ]
          },
          "metadata": {},
          "execution_count": 59
        }
      ]
    },
    {
      "cell_type": "code",
      "metadata": {
        "id": "supreme-federal",
        "colab": {
          "base_uri": "https://localhost:8080/"
        },
        "outputId": "1a76f5f4-c5eb-4b9c-b05e-7ade68fb4a4f"
      },
      "source": [
        "X_train.columns"
      ],
      "id": "supreme-federal",
      "execution_count": 60,
      "outputs": [
        {
          "output_type": "execute_result",
          "data": {
            "text/plain": [
              "Index(['sex', 'age', 'sibsp', 'parch', 'fare', 'familysize', 'singleton',\n",
              "       'smallfamily', 'largefamily', 'pclass_1', 'pclass_2', 'pclass_3',\n",
              "       'cabin_A', 'cabin_B', 'cabin_C', 'cabin_D', 'cabin_E', 'cabin_F',\n",
              "       'cabin_G', 'cabin_T', 'cabin_n', 'embarked_C', 'embarked_Q',\n",
              "       'embarked_S', 'person_child', 'person_female', 'person_male',\n",
              "       'title_Master.', 'title_Miss.', 'title_Mr.', 'title_Mrs.', 'title_Rare',\n",
              "       'age_cat', 'fare_cat'],\n",
              "      dtype='object')"
            ]
          },
          "metadata": {},
          "execution_count": 60
        }
      ]
    },
    {
      "cell_type": "code",
      "metadata": {
        "id": "bound-commercial"
      },
      "source": [
        "clf = RandomForestClassifier(n_estimators=50, max_features='sqrt')\n",
        "clf = clf.fit(X_train, y_train)"
      ],
      "id": "bound-commercial",
      "execution_count": 61,
      "outputs": []
    },
    {
      "cell_type": "code",
      "metadata": {
        "id": "fiscal-mumbai",
        "colab": {
          "base_uri": "https://localhost:8080/",
          "height": 1000
        },
        "outputId": "0ea1eef2-1bec-46ca-ff27-e564c8bad871"
      },
      "source": [
        "feature_importances = pd.DataFrame()\n",
        "feature_importances['feature'] = X_train.columns\n",
        "feature_importances['importance'] = clf.feature_importances_\n",
        "feature_importances.sort_values(by=['importance'], ascending=True, inplace=True)\n",
        "feature_importances.set_index('feature', inplace=True)\n",
        "\n",
        "feature_importances.plot(kind='barh', figsize=(25, 25))"
      ],
      "id": "fiscal-mumbai",
      "execution_count": 62,
      "outputs": [
        {
          "output_type": "execute_result",
          "data": {
            "text/plain": [
              "<matplotlib.axes._subplots.AxesSubplot at 0x7fbee8a6c210>"
            ]
          },
          "metadata": {},
          "execution_count": 62
        },
        {
          "output_type": "display_data",
          "data": {
            "image/png": "[encoded data removed]",
            "text/plain": [
              "<Figure size 1800x1800 with 1 Axes>"
            ]
          },
          "metadata": {
            "needs_background": "light"
          }
        }
      ]
    },
    {
      "cell_type": "code",
      "metadata": {
        "id": "alpine-undergraduate",
        "colab": {
          "base_uri": "https://localhost:8080/"
        },
        "outputId": "b3419995-790a-4c69-8d4a-4789722d6123"
      },
      "source": [
        "from sklearn.feature_selection import SelectFromModel\n",
        "model = SelectFromModel(clf, prefit=True)\n",
        "X_train = model.transform(X_train)\n",
        "X_test = model.transform(X_test)\n",
        "print(X_train.shape, X_test.shape)"
      ],
      "id": "alpine-undergraduate",
      "execution_count": 63,
      "outputs": [
        {
          "output_type": "stream",
          "name": "stdout",
          "text": [
            "(916, 11) (393, 11)\n"
          ]
        }
      ]
    },
    {
      "cell_type": "code",
      "metadata": {
        "id": "impressed-beads"
      },
      "source": [
        "from sklearn.model_selection import StratifiedKFold\n",
        "from sklearn.model_selection import GridSearchCV\n",
        "from sklearn.model_selection import cross_val_score\n",
        "from sklearn.feature_selection import SelectFromModel\n",
        "from sklearn.linear_model import LogisticRegression, LogisticRegressionCV\n",
        "\n",
        "logreg = LogisticRegression(max_iter=1e5)\n",
        "rf = RandomForestClassifier()\n",
        "gboost = GradientBoostingClassifier()\n",
        "\n",
        "models = [logreg, rf, gboost]"
      ],
      "id": "impressed-beads",
      "execution_count": 64,
      "outputs": []
    },
    {
      "cell_type": "code",
      "metadata": {
        "id": "subtle-accountability"
      },
      "source": [
        "cross_validation = StratifiedKFold(n_splits=5, shuffle=True, random_state=42)"
      ],
      "id": "subtle-accountability",
      "execution_count": 65,
      "outputs": []
    },
    {
      "cell_type": "code",
      "metadata": {
        "id": "periodic-terry",
        "colab": {
          "base_uri": "https://localhost:8080/"
        },
        "outputId": "0f38b1a6-f3fd-4ce9-d2a2-a517bc7ec863"
      },
      "source": [
        "for model in models:\n",
        "    print('Cross-validation of : {0}'.format(model.__class__))\n",
        "    score = np.mean(cross_val_score(model, X_train, y_train, cv=cross_validation, scoring='accuracy'))\n",
        "    print('CV score = {0}'.format(score))\n",
        "    print('****')"
      ],
      "id": "periodic-terry",
      "execution_count": 66,
      "outputs": [
        {
          "output_type": "stream",
          "name": "stdout",
          "text": [
            "Cross-validation of : <class 'sklearn.linear_model._logistic.LogisticRegression'>\n",
            "CV score = 0.8198740793537658\n",
            "****\n",
            "Cross-validation of : <class 'sklearn.ensemble._forest.RandomForestClassifier'>\n",
            "CV score = 0.7968935614160133\n",
            "****\n",
            "Cross-validation of : <class 'sklearn.ensemble._gb.GradientBoostingClassifier'>\n",
            "CV score = 0.8165835115229271\n",
            "****\n"
          ]
        }
      ]
    },
    {
      "cell_type": "code",
      "metadata": {
        "id": "russian-concert",
        "colab": {
          "base_uri": "https://localhost:8080/"
        },
        "outputId": "d7bc26a6-9c9a-44c8-d51e-ae2ec8cc49b0"
      },
      "source": [
        "from sklearn.model_selection import RandomizedSearchCV\n",
        "rfc=RandomForestClassifier(random_state=42)\n",
        "param_grid = { \n",
        "    'n_estimators': [100, 150, 200],\n",
        "    'max_features': ['auto', 'sqrt', 'log2'],\n",
        "    'max_depth' : [3,4,5,6,7,8]}\n",
        "\n",
        "rfc_cv = GridSearchCV(estimator=rfc, param_grid=param_grid, cv=cross_validation)\n",
        "rfc_cv.fit(X_train, y_train)"
      ],
      "id": "russian-concert",
      "execution_count": 67,
      "outputs": [
        {
          "output_type": "execute_result",
          "data": {
            "text/plain": [
              "GridSearchCV(cv=StratifiedKFold(n_splits=5, random_state=42, shuffle=True),\n",
              "             error_score=nan,\n",
              "             estimator=RandomForestClassifier(bootstrap=True, ccp_alpha=0.0,\n",
              "                                              class_weight=None,\n",
              "                                              criterion='gini', max_depth=None,\n",
              "                                              max_features='auto',\n",
              "                                              max_leaf_nodes=None,\n",
              "                                              max_samples=None,\n",
              "                                              min_impurity_decrease=0.0,\n",
              "                                              min_impurity_split=None,\n",
              "                                              min_samples_leaf=1,\n",
              "                                              min_samples_split=2,\n",
              "                                              min_weight_fraction_leaf=0.0,\n",
              "                                              n_estimators=100, n_jobs=None,\n",
              "                                              oob_score=False, random_state=42,\n",
              "                                              verbose=0, warm_start=False),\n",
              "             iid='deprecated', n_jobs=None,\n",
              "             param_grid={'max_depth': [3, 4, 5, 6, 7, 8],\n",
              "                         'max_features': ['auto', 'sqrt', 'log2'],\n",
              "                         'n_estimators': [100, 150, 200]},\n",
              "             pre_dispatch='2*n_jobs', refit=True, return_train_score=False,\n",
              "             scoring=None, verbose=0)"
            ]
          },
          "metadata": {},
          "execution_count": 67
        }
      ]
    },
    {
      "cell_type": "markdown",
      "metadata": {
        "id": "improved-ridge"
      },
      "source": [
        "Tuned parameters and score"
      ],
      "id": "improved-ridge"
    },
    {
      "cell_type": "code",
      "metadata": {
        "id": "underlying-commerce",
        "colab": {
          "base_uri": "https://localhost:8080/"
        },
        "outputId": "bbc8ce00-8c68-4048-f975-d073f8d894ba"
      },
      "source": [
        "print(\"Tuned Random Forest Parameters: {}\".format(rfc_cv.best_params_))\n",
        "print(\"Best score is {}\".format(rfc_cv.best_score_))\n",
        "print(\"Score on test data is {}\".format(rfc_cv.score(X_test, y_test)))"
      ],
      "id": "underlying-commerce",
      "execution_count": 68,
      "outputs": [
        {
          "output_type": "stream",
          "name": "stdout",
          "text": [
            "Tuned Random Forest Parameters: {'max_depth': 5, 'max_features': 'auto', 'n_estimators': 100}\n",
            "Best score is 0.8220361130909956\n",
            "Score on test data is 0.8091603053435115\n"
          ]
        }
      ]
    },
    {
      "cell_type": "code",
      "metadata": {
        "id": "casual-worship",
        "colab": {
          "base_uri": "https://localhost:8080/"
        },
        "outputId": "3e3176fd-93ad-434d-f3a6-144aad535e08"
      },
      "source": [
        "from sklearn.metrics import confusion_matrix\n",
        "# https://scikit-learn.org/stable/modules/generated/sklearn.metrics.confusion_matrix.html\n",
        "y_hat_test = rfc_cv.predict(X_test)\n",
        "confusion_matrix(y_test, y_hat_test, labels=[0,1])"
      ],
      "id": "casual-worship",
      "execution_count": 69,
      "outputs": [
        {
          "output_type": "execute_result",
          "data": {
            "text/plain": [
              "array([[207,  17],\n",
              "       [ 58, 111]])"
            ]
          },
          "metadata": {},
          "execution_count": 69
        }
      ]
    },
    {
      "cell_type": "code",
      "metadata": {
        "id": "structured-folder",
        "colab": {
          "base_uri": "https://localhost:8080/"
        },
        "outputId": "9d326f9f-2829-4f9b-915b-2138783f173f"
      },
      "source": [
        "y_test.value_counts()"
      ],
      "id": "structured-folder",
      "execution_count": 70,
      "outputs": [
        {
          "output_type": "execute_result",
          "data": {
            "text/plain": [
              "0    224\n",
              "1    169\n",
              "Name: survived, dtype: int64"
            ]
          },
          "metadata": {},
          "execution_count": 70
        }
      ]
    },
    {
      "cell_type": "code",
      "metadata": {
        "id": "joint-kazakhstan"
      },
      "source": [
        "import matplotlib.pyplot as plt\n",
        "from sklearn import metrics"
      ],
      "id": "joint-kazakhstan",
      "execution_count": 71,
      "outputs": []
    },
    {
      "cell_type": "code",
      "metadata": {
        "id": "suited-grocery",
        "colab": {
          "base_uri": "https://localhost:8080/",
          "height": 359
        },
        "outputId": "170b5c40-0395-4cc4-ab05-320b344215fa"
      },
      "source": [
        "disp = metrics.plot_confusion_matrix(rfc_cv, X_test, y_test)\n",
        "disp.figure_.suptitle(\"Confusion Matrix\")\n",
        "print(f\"Confusion matrix:\\n{disp.confusion_matrix}\")\n",
        "\n",
        "plt.show()"
      ],
      "id": "suited-grocery",
      "execution_count": 72,
      "outputs": [
        {
          "output_type": "stream",
          "name": "stdout",
          "text": [
            "Confusion matrix:\n",
            "[[207  17]\n",
            " [ 58 111]]\n"
          ]
        },
        {
          "output_type": "display_data",
          "data": {
            "image/png": "[encoded data removed]",
            "text/plain": [
              "<Figure size 432x288 with 2 Axes>"
            ]
          },
          "metadata": {
            "needs_background": "light"
          }
        }
      ]
    },
    {
      "cell_type": "markdown",
      "metadata": {
        "id": "nuclear-accountability"
      },
      "source": [
        "## MNIST handwritten digits\n",
        "\n",
        "Based on sklearn documentation [example](https://scikit-learn.org/stable/auto_examples/classification/plot_digits_classification.html).\n",
        "\n",
        "The images attribute of the dataset stores 8x8 arrays of grayscale values for each image."
      ],
      "id": "nuclear-accountability"
    },
    {
      "cell_type": "code",
      "metadata": {
        "id": "aboriginal-banner",
        "colab": {
          "base_uri": "https://localhost:8080/",
          "height": 168
        },
        "outputId": "c0842234-9b44-49bb-e972-b77c3ffe5189"
      },
      "source": [
        "import matplotlib.pyplot as plt\n",
        "from sklearn import datasets, svm\n",
        "digits = datasets.load_digits()\n",
        "\n",
        "_, axes = plt.subplots(nrows=1, ncols=4, figsize=(10, 3))\n",
        "for ax, image, label in zip(axes, digits.images, digits.target):\n",
        "    ax.set_axis_off()\n",
        "    ax.imshow(image, cmap=plt.cm.gray_r, interpolation='nearest')\n",
        "    ax.set_title('Training: %i' % label)"
      ],
      "id": "aboriginal-banner",
      "execution_count": 73,
      "outputs": [
        {
          "output_type": "display_data",
          "data": {
            "image/png": "[encoded data removed]",
            "text/plain": [
              "<Figure size 720x216 with 4 Axes>"
            ]
          },
          "metadata": {
            "needs_background": "light"
          }
        }
      ]
    },
    {
      "cell_type": "code",
      "metadata": {
        "id": "satellite-robert"
      },
      "source": [
        "# flatten the images\n",
        "n_samples = len(digits.images)\n",
        "data = digits.images.reshape((n_samples, -1))\n",
        "\n",
        "# Create a classifier: a support vector classifier\n",
        "clf = svm.SVC(gamma=0.001)\n",
        "\n",
        "# Split data into 50% train and 50% test subsets\n",
        "X_train, X_test, y_train, y_test = train_test_split(\n",
        "    data, digits.target, test_size=0.5, shuffle=False)\n",
        "\n",
        "# Learn the digits on the train subset\n",
        "clf.fit(X_train, y_train)\n",
        "\n",
        "# Predict the value of the digit on the test subset\n",
        "predicted = clf.predict(X_test)\n"
      ],
      "id": "satellite-robert",
      "execution_count": 74,
      "outputs": []
    },
    {
      "cell_type": "code",
      "metadata": {
        "id": "oriental-carrier",
        "colab": {
          "base_uri": "https://localhost:8080/",
          "height": 168
        },
        "outputId": "ccdedc9b-4d9c-4b48-cea9-5749684323dd"
      },
      "source": [
        "_, axes = plt.subplots(nrows=1, ncols=4, figsize=(10, 3))\n",
        "for ax, image, prediction in zip(axes, X_test, predicted):\n",
        "    ax.set_axis_off()\n",
        "    image = image.reshape(8, 8)\n",
        "    ax.imshow(image, cmap=plt.cm.gray_r, interpolation='nearest')\n",
        "    ax.set_title(f'Prediction: {prediction}')"
      ],
      "id": "oriental-carrier",
      "execution_count": 75,
      "outputs": [
        {
          "output_type": "display_data",
          "data": {
            "image/png": "[encoded data removed]",
            "text/plain": [
              "<Figure size 720x216 with 4 Axes>"
            ]
          },
          "metadata": {
            "needs_background": "light"
          }
        }
      ]
    },
    {
      "cell_type": "code",
      "metadata": {
        "id": "saving-think",
        "colab": {
          "base_uri": "https://localhost:8080/"
        },
        "outputId": "23bdf3b0-ba5a-4f9e-93bc-0cf0a6f8e2b2"
      },
      "source": [
        "print(f\"Classification report for classifier {clf}:\\n\"\n",
        "      f\"{metrics.classification_report(y_test, predicted)}\\n\")"
      ],
      "id": "saving-think",
      "execution_count": 76,
      "outputs": [
        {
          "output_type": "stream",
          "name": "stdout",
          "text": [
            "Classification report for classifier SVC(C=1.0, break_ties=False, cache_size=200, class_weight=None, coef0=0.0,\n",
            "    decision_function_shape='ovr', degree=3, gamma=0.001, kernel='rbf',\n",
            "    max_iter=-1, probability=False, random_state=None, shrinking=True,\n",
            "    tol=0.001, verbose=False):\n",
            "              precision    recall  f1-score   support\n",
            "\n",
            "           0       1.00      0.99      0.99        88\n",
            "           1       0.99      0.97      0.98        91\n",
            "           2       0.99      0.99      0.99        86\n",
            "           3       0.98      0.87      0.92        91\n",
            "           4       0.99      0.96      0.97        92\n",
            "           5       0.95      0.97      0.96        91\n",
            "           6       0.99      0.99      0.99        91\n",
            "           7       0.96      0.99      0.97        89\n",
            "           8       0.94      1.00      0.97        88\n",
            "           9       0.93      0.98      0.95        92\n",
            "\n",
            "    accuracy                           0.97       899\n",
            "   macro avg       0.97      0.97      0.97       899\n",
            "weighted avg       0.97      0.97      0.97       899\n",
            "\n",
            "\n"
          ]
        }
      ]
    },
    {
      "cell_type": "code",
      "metadata": {
        "id": "automotive-tanzania",
        "colab": {
          "base_uri": "https://localhost:8080/",
          "height": 495
        },
        "outputId": "5dfa755c-aa30-4115-ac18-ed4e455be510"
      },
      "source": [
        "disp = metrics.plot_confusion_matrix(clf, X_test, y_test)\n",
        "disp.figure_.suptitle(\"Confusion Matrix\")\n",
        "print(f\"Confusion matrix:\\n{disp.confusion_matrix}\")\n",
        "\n",
        "plt.show()"
      ],
      "id": "automotive-tanzania",
      "execution_count": 77,
      "outputs": [
        {
          "output_type": "stream",
          "name": "stdout",
          "text": [
            "Confusion matrix:\n",
            "[[87  0  0  0  1  0  0  0  0  0]\n",
            " [ 0 88  1  0  0  0  0  0  1  1]\n",
            " [ 0  0 85  1  0  0  0  0  0  0]\n",
            " [ 0  0  0 79  0  3  0  4  5  0]\n",
            " [ 0  0  0  0 88  0  0  0  0  4]\n",
            " [ 0  0  0  0  0 88  1  0  0  2]\n",
            " [ 0  1  0  0  0  0 90  0  0  0]\n",
            " [ 0  0  0  0  0  1  0 88  0  0]\n",
            " [ 0  0  0  0  0  0  0  0 88  0]\n",
            " [ 0  0  0  1  0  1  0  0  0 90]]\n"
          ]
        },
        {
          "output_type": "display_data",
          "data": {
            "image/png": "[encoded data removed]",
            "text/plain": [
              "<Figure size 432x288 with 2 Axes>"
            ]
          },
          "metadata": {
            "needs_background": "light"
          }
        }
      ]
    }
  ]
}